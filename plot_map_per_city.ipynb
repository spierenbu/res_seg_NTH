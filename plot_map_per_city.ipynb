{
 "cells": [
  {
   "cell_type": "code",
   "execution_count": 1,
   "metadata": {},
   "outputs": [
    {
     "name": "stderr",
     "output_type": "stream",
     "text": [
      "/home/lulu/.pyenv/versions/3.9.7/envs/study_1_venv/lib/python3.9/site-packages/geopandas/_compat.py:111: UserWarning: The Shapely GEOS version (3.9.1-CAPI-1.14.2) is incompatible with the GEOS version PyGEOS was compiled with (3.10.1-CAPI-1.16.0). Conversions between both will be slow.\n",
      "  warnings.warn(\n"
     ]
    }
   ],
   "source": [
    "import matplotlib.pyplot as plt\n",
    "import geopandas as gpd\n",
    "import pandas as pd\n",
    "from matplotlib_scalebar.scalebar import ScaleBar\n",
    "import matplotlib\n",
    "import matplotlib.patches as mpatches"
   ]
  },
  {
   "cell_type": "code",
   "execution_count": 3,
   "metadata": {},
   "outputs": [],
   "source": [
    "spatial_units = gpd.read_file('../data/processed_data/zones_delineation/PC_Delft.gpkg')\n",
    "spatial_units = spatial_units.drop(columns = ['Postcode','gemeente','area_ratio'])"
   ]
  },
  {
   "cell_type": "code",
   "execution_count": 87,
   "metadata": {},
   "outputs": [],
   "source": [
    "boundaries = spatial_units.dissolve()"
   ]
  },
  {
   "cell_type": "code",
   "execution_count": 4,
   "metadata": {},
   "outputs": [],
   "source": [
    "exposure = pd.read_csv('../data/results/exposure/Delft_exposure.csv', usecols= ['id_unit','expos_NW'])"
   ]
  },
  {
   "cell_type": "code",
   "execution_count": 5,
   "metadata": {},
   "outputs": [],
   "source": [
    "spatial_units = spatial_units.merge(exposure, on = 'id_unit')\n",
    "average_expos = spatial_units['expos_NW'].mean()\n",
    "std_expos = spatial_units['expos_NW'].std()"
   ]
  },
  {
   "cell_type": "code",
   "execution_count": 6,
   "metadata": {},
   "outputs": [],
   "source": [
    "regions = gpd.read_file('../data/results/regions/regions.gpkg')"
   ]
  },
  {
   "cell_type": "code",
   "execution_count": 7,
   "metadata": {},
   "outputs": [],
   "source": [
    "regions_city = regions.loc[(regions['seg'] == 1) & (regions['city'] == 'Delft')]"
   ]
  },
  {
   "cell_type": "code",
   "execution_count": 71,
   "metadata": {},
   "outputs": [],
   "source": [
    "spatial_units['exp_norm'] = 0\n",
    "spatial_units['exp_norm'] = (spatial_units['expos_NW']-average_expos)/std_expos"
   ]
  },
  {
   "cell_type": "code",
   "execution_count": 83,
   "metadata": {},
   "outputs": [],
   "source": [
    "color_seg = ['#f7d500','#d65800','#a11096']\n",
    "spatial_units['color'] = color_seg[1]\n",
    "spatial_units['color'] = spatial_units['color'].mask(spatial_units['exp_norm'] <= -1/3,color_seg[0])\n",
    "spatial_units['color'] = spatial_units['color'].mask(spatial_units['exp_norm'] > 1/3,color_seg[2])"
   ]
  },
  {
   "cell_type": "code",
   "execution_count": 112,
   "metadata": {},
   "outputs": [],
   "source": [
    "fig, ax = plt.subplots(1, figsize=(8, 8))\n",
    "ax.margins(0)\n",
    "spatial_units.plot(ax=ax,\n",
    "                   color = spatial_units['color'],\n",
    "                   edgecolor = spatial_units['color'])\n",
    "\n",
    "regions_city.plot(ax=ax,color = 'none',hatch='\\\\\\\\')\n",
    "\n",
    "# legend\n",
    "patch_1 = mpatches.Patch(color=color_seg[0], label='$< \\mu - \\sigma^2/3$')\n",
    "patch_2 = mpatches.Patch(color=color_seg[1], label='$[\\mu - \\sigma^2/3 , \\mu + \\sigma^2/3]$')\n",
    "patch_3 = mpatches.Patch(color=color_seg[2], label='$\\geq \\mu + \\sigma^2/3$')\n",
    "patch_4 = mpatches.Patch(facecolor='white',edgecolor = 'black',hatch='\\\\\\\\\\\\', label='Segregated regions')\n",
    "\n",
    "ax.legend(handles = [patch_1,patch_2,patch_3,patch_4])\n",
    "boundaries.plot(ax=ax,color = 'none', edgecolor = 'black')\n",
    "#df_zones.plot(ax=ax, color  = 'none', edgecolor='black')\n",
    "ax.axis('off')\n",
    "ax.add_artist(ScaleBar(dx =1 ,length_fraction=0.3, location = 'lower left'))\n",
    "#fig.savefig('../report/figures/all_cities/Delft.png')\n",
    "plt.close()"
   ]
  }
 ],
 "metadata": {
  "kernelspec": {
   "display_name": "Python 3.9.7 64-bit ('study_1_venv')",
   "language": "python",
   "name": "python3"
  },
  "language_info": {
   "codemirror_mode": {
    "name": "ipython",
    "version": 3
   },
   "file_extension": ".py",
   "mimetype": "text/x-python",
   "name": "python",
   "nbconvert_exporter": "python",
   "pygments_lexer": "ipython3",
   "version": "3.9.7"
  },
  "orig_nbformat": 4,
  "vscode": {
   "interpreter": {
    "hash": "11eb3bdda620b386ac311b3d07c097973ef5c99cb9184bf1a093190cd8996fdc"
   }
  }
 },
 "nbformat": 4,
 "nbformat_minor": 2
}
