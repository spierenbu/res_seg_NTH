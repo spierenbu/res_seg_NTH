{
 "cells": [
  {
   "cell_type": "code",
   "execution_count": 1,
   "metadata": {},
   "outputs": [
    {
     "name": "stderr",
     "output_type": "stream",
     "text": [
      "/home/lulu/.pyenv/versions/3.9.7/envs/study_1_venv/lib/python3.9/site-packages/geopandas/_compat.py:111: UserWarning: The Shapely GEOS version (3.9.1-CAPI-1.14.2) is incompatible with the GEOS version PyGEOS was compiled with (3.10.1-CAPI-1.16.0). Conversions between both will be slow.\n",
      "  warnings.warn(\n"
     ]
    }
   ],
   "source": [
    "import matplotlib.pyplot as plt\n",
    "from matplotlib.transforms import Bbox\n",
    "import geopandas as gpd\n",
    "import pandas as pd\n",
    "from matplotlib_scalebar.scalebar import ScaleBar\n",
    "import matplotlib\n",
    "import matplotlib.patches as mpatches\n",
    "import matplotlib.lines as mlines\n",
    "import os\n",
    "from fastprogress.fastprogress import progress_bar"
   ]
  },
  {
   "cell_type": "code",
   "execution_count": 2,
   "metadata": {},
   "outputs": [],
   "source": [
    "railway = gpd.read_file('../report/figures/all_cities/gis_file/railways_no_duplicate.gpkg')\n",
    "motorway = gpd.read_file('../report/figures/all_cities/gis_file/motorways_2.gpkg')\n",
    "regions = gpd.read_file('../data/results/regions/regions.gpkg')"
   ]
  },
  {
   "cell_type": "code",
   "execution_count": 4,
   "metadata": {},
   "outputs": [
    {
     "data": {
      "text/html": [
       "\n",
       "    <div>\n",
       "        <style>\n",
       "            /* Turns off some styling */\n",
       "            progress {\n",
       "                /* gets rid of default border in Firefox and Opera. */\n",
       "                border: none;\n",
       "                /* Needs to be in here for Safari polyfill so background images work as expected. */\n",
       "                background-size: auto;\n",
       "            }\n",
       "            .progress-bar-interrupted, .progress-bar-interrupted::-webkit-progress-bar {\n",
       "                background: #F44336;\n",
       "            }\n",
       "        </style>\n",
       "      <progress value='9' class='' max='389' style='width:300px; height:20px; vertical-align: middle;'></progress>\n",
       "      2.31% [9/389 00:12<08:33 Almelo]\n",
       "    </div>\n",
       "    "
      ],
      "text/plain": [
       "<IPython.core.display.HTML object>"
      ]
     },
     "metadata": {},
     "output_type": "display_data"
    },
    {
     "name": "stderr",
     "output_type": "stream",
     "text": [
      "/home/lulu/.pyenv/versions/3.9.7/envs/study_1_venv/lib/python3.9/site-packages/geopandas/plotting.py:681: UserWarning: The GeoDataFrame you are attempting to plot is empty. Nothing has been displayed.\n",
      "  warnings.warn(\n",
      "/home/lulu/.pyenv/versions/3.9.7/envs/study_1_venv/lib/python3.9/site-packages/geopandas/plotting.py:681: UserWarning: The GeoDataFrame you are attempting to plot is empty. Nothing has been displayed.\n",
      "  warnings.warn(\n",
      "/home/lulu/.pyenv/versions/3.9.7/envs/study_1_venv/lib/python3.9/site-packages/geopandas/plotting.py:681: UserWarning: The GeoDataFrame you are attempting to plot is empty. Nothing has been displayed.\n",
      "  warnings.warn(\n",
      "/home/lulu/.pyenv/versions/3.9.7/envs/study_1_venv/lib/python3.9/site-packages/geopandas/plotting.py:681: UserWarning: The GeoDataFrame you are attempting to plot is empty. Nothing has been displayed.\n",
      "  warnings.warn(\n",
      "/home/lulu/.pyenv/versions/3.9.7/envs/study_1_venv/lib/python3.9/site-packages/geopandas/plotting.py:681: UserWarning: The GeoDataFrame you are attempting to plot is empty. Nothing has been displayed.\n",
      "  warnings.warn(\n",
      "/home/lulu/.pyenv/versions/3.9.7/envs/study_1_venv/lib/python3.9/site-packages/geopandas/plotting.py:681: UserWarning: The GeoDataFrame you are attempting to plot is empty. Nothing has been displayed.\n",
      "  warnings.warn(\n",
      "/home/lulu/.pyenv/versions/3.9.7/envs/study_1_venv/lib/python3.9/site-packages/geopandas/plotting.py:681: UserWarning: The GeoDataFrame you are attempting to plot is empty. Nothing has been displayed.\n",
      "  warnings.warn(\n"
     ]
    }
   ],
   "source": [
    "from operator import ge\n",
    "\n",
    "\n",
    "dir_gemeente = '../data/processed_data/city_boundary/'\n",
    "dir_geometry_edited = '../data/processed_data/zones_delineation/edited/'\n",
    "dir_geometry = '../data/processed_data/zones_delineation/'\n",
    "dir_exposure = '../data/results/exposure/'\n",
    "\n",
    "list_files = os.listdir(dir_gemeente)\n",
    "list_files.remove('README_city_boundary.mkd')\n",
    "\n",
    "pb = progress_bar(range(len(list_files)))\n",
    "\n",
    "k=0\n",
    "\n",
    "for i in pb:\n",
    "    file = list_files[i]\n",
    "    city = file[:-5]\n",
    "    pb.comment = city\n",
    "\n",
    "    k = k+1\n",
    "\n",
    "    if city == 'Amsterdam':\n",
    "        spatial_units_1 = gpd.read_file(dir_geometry_edited + 'PC_' + city + '_1.gpkg')\n",
    "        spatial_units_2 = gpd.read_file(dir_geometry_edited + 'PC_' + city + '_2.gpkg')\n",
    "        spatial_units = gpd.GeoDataFrame(pd.concat([spatial_units_1,spatial_units_2],ignore_index=True),\n",
    "                                         geometry = 'geometry',\n",
    "                                         crs = 'EPSG:28992')\n",
    "    \n",
    "    elif os.path.isfile(dir_geometry_edited + 'PC_' + file):\n",
    "        spatial_units = gpd.read_file(dir_geometry_edited + 'PC_' + file)\n",
    "\n",
    "    else:\n",
    "        spatial_units = gpd.read_file(dir_geometry + 'PC_' + file)\n",
    "\n",
    "    #spatial_units = gpd.read_file('../data/processed_data/zones_delineation/PC_Delft.gpkg')\n",
    "    spatial_units = spatial_units.drop(columns = ['Postcode','gemeente','area_ratio'])\n",
    "\n",
    "    # City boundaries.\n",
    "    boundaries = spatial_units.dissolve()\n",
    "\n",
    "    exposure = pd.read_csv(dir_exposure + city + '_exposure.csv', usecols= ['id_unit','expos_NW'])\n",
    "    spatial_units = spatial_units.merge(exposure, on = 'id_unit')\n",
    "    average_expos = spatial_units['expos_NW'].mean()\n",
    "    std_expos = spatial_units['expos_NW'].std()\n",
    "\n",
    "    # Color system.\n",
    "    spatial_units['exp_norm'] = 0\n",
    "    spatial_units['exp_norm'] = (spatial_units['expos_NW']-average_expos)/std_expos\n",
    "    color_seg = ['#f7d500','#d65800','#a11096']\n",
    "    spatial_units['color'] = color_seg[1]\n",
    "    spatial_units['color'] = spatial_units['color'].mask(spatial_units['exp_norm'] <= -1/3,color_seg[0])\n",
    "    spatial_units['color'] = spatial_units['color'].mask(spatial_units['exp_norm'] > 1/3,color_seg[2])\n",
    "\n",
    "    spatial_units = spatial_units.dissolve(by = 'color').reset_index()\n",
    "    regions_city = regions.loc[(regions['seg'] == 1) & (regions['city'] == city)]\n",
    "\n",
    "    motorway_city = motorway.overlay(boundaries, how = 'intersection')\n",
    "    railway_city = railway.overlay(boundaries, how = 'intersection')\n",
    "\n",
    "    water_city = gpd.read_file('../../study_1/data/raw_data/water/water_' + file)\n",
    "    water_city = water_city.dissolve().explode(index_parts=True)\n",
    "    water_city = water_city.loc[water_city.area>2e5]\n",
    "\n",
    "    aspect_ratio = (boundaries.bounds['maxy'] - boundaries.bounds['miny']) / \\\n",
    "                (boundaries.bounds['maxx'] - boundaries.bounds['minx'])\n",
    "    aspect_ratio = aspect_ratio.iloc[0]\n",
    "        \n",
    "    fig, ax = plt.subplots(1, figsize=(8, 8))\n",
    "    ax.margins(0)\n",
    "    spatial_units.plot(ax=ax,color = spatial_units['color'],edgecolor = spatial_units['color'])\n",
    "\n",
    "    ax.axis('off')\n",
    "\n",
    "    water_city.plot(ax = ax, color = '#33c2ff')\n",
    "    motorway_city.plot(ax=ax,color = '#7a7a7a')\n",
    "    railway_city.plot(ax=ax,color = 'black',linestyle = '--')\n",
    "    regions_city.plot(ax=ax,color = 'none',hatch='\\\\\\\\')\n",
    "    boundaries.plot(ax=ax,color = 'none', edgecolor = 'black')\n",
    "\n",
    "    # legend\n",
    "    patch_title = mpatches.Patch(color = 'None',label='Exposure level:')\n",
    "    patch_lvl_1 = mpatches.Patch(color=color_seg[0], label='$< \\mu - \\sigma^2/3$')\n",
    "    patch_lvl_2 = mpatches.Patch(color=color_seg[1], label='$[\\mu - \\sigma^2/3 , \\mu + \\sigma^2/3]$')\n",
    "    patch_lvl_3 = mpatches.Patch(color=color_seg[2], label='$\\geq \\mu + \\sigma^2/3$')\n",
    "    patch_region = mpatches.Patch(facecolor='None',edgecolor = 'black',hatch='\\\\\\\\\\\\', label='Segregated region')\n",
    "    patch_water = mpatches.Patch(facecolor='#33c2ff', label='Water')\n",
    "    line_railway = mlines.Line2D([], [], color='black', linestyle='--', label='Railway')\n",
    "    line_motorway = mlines.Line2D([], [], color='#7a7a7a',label='Highway')\n",
    "\n",
    "    if aspect_ratio > 1:\n",
    "        ax.legend(handles = [patch_title,patch_lvl_1,patch_lvl_2,patch_lvl_3,patch_region,patch_water,line_railway],\n",
    "                            loc = 'upper right',bbox_to_anchor=(min(1.4, aspect_ratio), 1))\n",
    "        ax.add_artist(ScaleBar(dx =1 ,length_fraction=0.3/aspect_ratio, location = 'lower left'))\n",
    "\n",
    "    else:\n",
    "        ax.legend(handles = [patch_title,patch_lvl_1,patch_lvl_2,patch_lvl_3,patch_region,patch_water,line_railway],\n",
    "                            loc = 'upper left',ncol = 2,bbox_to_anchor=(0, min(1.4,1/aspect_ratio)))\n",
    "        ax.add_artist(ScaleBar(dx =1 ,length_fraction=0.3 *aspect_ratio, location = 'lower left'))\n",
    "\n",
    "    \n",
    "\n",
    "    fig.savefig('../report/figures/all_cities/' + city + '.svg',bbox_inches='tight',pad_inches = 0)\n",
    "    plt.close()\n",
    "    if k == 10: \n",
    "        break"
   ]
  }
 ],
 "metadata": {
  "kernelspec": {
   "display_name": "Python 3.9.7 64-bit ('study_1_venv')",
   "language": "python",
   "name": "python3"
  },
  "language_info": {
   "codemirror_mode": {
    "name": "ipython",
    "version": 3
   },
   "file_extension": ".py",
   "mimetype": "text/x-python",
   "name": "python",
   "nbconvert_exporter": "python",
   "pygments_lexer": "ipython3",
   "version": "3.9.7"
  },
  "orig_nbformat": 4,
  "vscode": {
   "interpreter": {
    "hash": "11eb3bdda620b386ac311b3d07c097973ef5c99cb9184bf1a093190cd8996fdc"
   }
  }
 },
 "nbformat": 4,
 "nbformat_minor": 2
}
