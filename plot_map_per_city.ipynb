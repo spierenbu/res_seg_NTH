{
 "cells": [
  {
   "cell_type": "code",
   "execution_count": 79,
   "metadata": {},
   "outputs": [],
   "source": [
    "import matplotlib.pyplot as plt\n",
    "import geopandas as gpd\n",
    "import pandas as pd\n",
    "from matplotlib_scalebar.scalebar import ScaleBar"
   ]
  },
  {
   "cell_type": "code",
   "execution_count": 62,
   "metadata": {},
   "outputs": [],
   "source": [
    "boundaries = gpd.read_file('../data/processed_data/city_boundary/Delft.gpkg').to_crs('EPSG:28992')"
   ]
  },
  {
   "cell_type": "code",
   "execution_count": 16,
   "metadata": {},
   "outputs": [],
   "source": [
    "spatial_units = gpd.read_file('../data/processed_data/zones_delineation/PC_Delft.gpkg')\n",
    "spatial_units = spatial_units.drop(columns = ['Postcode','gemeente','area_ratio'])"
   ]
  },
  {
   "cell_type": "code",
   "execution_count": 19,
   "metadata": {},
   "outputs": [],
   "source": [
    "exposure = pd.read_csv('../data/results/exposure/Delft_exposure.csv', usecols= ['id_unit','expos_NW'])"
   ]
  },
  {
   "cell_type": "code",
   "execution_count": 22,
   "metadata": {},
   "outputs": [],
   "source": [
    "spatial_units = spatial_units.merge(exposure, on = 'id_unit')\n",
    "average_expos = spatial_units['expos_NW'].mean()\n",
    "std_expos = spatial_units['expos_NW'].std()"
   ]
  },
  {
   "cell_type": "code",
   "execution_count": 29,
   "metadata": {},
   "outputs": [],
   "source": [
    "regions = gpd.read_file('../data/results/regions/regions.gpkg')"
   ]
  },
  {
   "cell_type": "code",
   "execution_count": 31,
   "metadata": {},
   "outputs": [],
   "source": [
    "regions_city = regions.loc[(regions['seg'] == 1) & (regions['city'] == 'Delft')]"
   ]
  },
  {
   "cell_type": "code",
   "execution_count": 40,
   "metadata": {},
   "outputs": [],
   "source": [
    "spatial_units['test'] = 0\n",
    "spatial_units['test'] = spatial_units['test'].mask(,(spatial_units['expos_NW']-average_expos)/std_expos)"
   ]
  },
  {
   "cell_type": "code",
   "execution_count": 82,
   "metadata": {},
   "outputs": [],
   "source": [
    "fig, ax = plt.subplots(1, figsize=(8, 8))\n",
    "#fig.set_tight_layout(True)\n",
    "ax.margins(0)\n",
    "spatial_units.plot(ax=ax, column = 'test', cmap = 'gnuplot_r') #cax to put the legend on a specific axis.\n",
    "regions_city.plot(ax=ax,color = 'none',hatch='\\\\\\\\')\n",
    "#boundaries.plot(ax=ax,color = 'none', edgecolor = 'black')\n",
    "#df_zones.plot(ax=ax, color  = 'none', edgecolor='black')\n",
    "ax.axis('off')\n",
    "ax.add_artist(ScaleBar(1))\n",
    "#plt.show()\n",
    "fig.savefig('../report/figures/all_cities/Delft.png')\n",
    "plt.close()"
   ]
  }
 ],
 "metadata": {
  "kernelspec": {
   "display_name": "Python 3.9.7 64-bit ('study_1_venv')",
   "language": "python",
   "name": "python3"
  },
  "language_info": {
   "codemirror_mode": {
    "name": "ipython",
    "version": 3
   },
   "file_extension": ".py",
   "mimetype": "text/x-python",
   "name": "python",
   "nbconvert_exporter": "python",
   "pygments_lexer": "ipython3",
   "version": "3.9.7"
  },
  "orig_nbformat": 4,
  "vscode": {
   "interpreter": {
    "hash": "11eb3bdda620b386ac311b3d07c097973ef5c99cb9184bf1a093190cd8996fdc"
   }
  }
 },
 "nbformat": 4,
 "nbformat_minor": 2
}
