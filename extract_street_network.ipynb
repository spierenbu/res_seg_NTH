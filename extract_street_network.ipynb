{
 "cells": [
  {
   "cell_type": "code",
   "execution_count": 1,
   "metadata": {},
   "outputs": [
    {
     "name": "stderr",
     "output_type": "stream",
     "text": [
      "/home/lulu/.pyenv/versions/3.9.7/envs/study_1_venv/lib/python3.9/site-packages/geopandas/_compat.py:111: UserWarning: The Shapely GEOS version (3.9.1-CAPI-1.14.2) is incompatible with the GEOS version PyGEOS was compiled with (3.10.1-CAPI-1.16.0). Conversions between both will be slow.\n",
      "  warnings.warn(\n"
     ]
    }
   ],
   "source": [
    "import pandas as pd\n",
    "import geopandas as gpd\n",
    "import numpy as np\n",
    "import networkx as nx\n",
    "import osmnx\n",
    "from datetime import datetime,timedelta\n",
    "from fastprogress.fastprogress import master_bar, progress_bar\n",
    "import os\n",
    "pd.set_option('mode.chained_assignment','raise')"
   ]
  },
  {
   "cell_type": "code",
   "execution_count": 2,
   "metadata": {},
   "outputs": [],
   "source": [
    "def extract_streets_from_OSM(city_boundary, destination_path):\n",
    "    '''\n",
    "    This function extracts the street network in a polygon and saves it.\n",
    "    \n",
    "           Parameters:\n",
    "                    city_boundary (gpd.GeoDataFrame): polygon containing the city boundaries.\n",
    "                    destination_path (str): Path where the street network should be stored.\n",
    "\n",
    "            Returns:\n",
    "                    None\n",
    "    '''\n",
    "    # Taking the convex hull of the city for the polygon requested to the API.\n",
    "    polygon = city_boundary.convex_hull\n",
    "    polygon = polygon.to_crs('EPSG:28992').buffer(200)\n",
    "    # CRS 4326 is needed to use osmnx.\n",
    "    polygon = polygon.to_crs('EPSG:4326')\n",
    "    net = osmnx.graph_from_polygon(polygon.values[0], \n",
    "                                   network_type = 'all', \n",
    "                                   simplify = False)\n",
    "    \n",
    "    net = osmnx.utils_graph.get_undirected(net)\n",
    "    \n",
    "    osmnx.io.save_graph_geopackage(net, \n",
    "                                   filepath = destination_path)"
   ]
  },
  {
   "cell_type": "code",
   "execution_count": 6,
   "metadata": {},
   "outputs": [
    {
     "data": {
      "text/html": [
       "\n",
       "    <div>\n",
       "        <style>\n",
       "            /* Turns off some styling */\n",
       "            progress {\n",
       "                /* gets rid of default border in Firefox and Opera. */\n",
       "                border: none;\n",
       "                /* Needs to be in here for Safari polyfill so background images work as expected. */\n",
       "                background-size: auto;\n",
       "            }\n",
       "            .progress-bar-interrupted, .progress-bar-interrupted::-webkit-progress-bar {\n",
       "                background: #F44336;\n",
       "            }\n",
       "        </style>\n",
       "      <progress value='389' class='' max='389' style='width:300px; height:20px; vertical-align: middle;'></progress>\n",
       "      100.00% [389/389 00:00<00:00 Gennep]\n",
       "    </div>\n",
       "    "
      ],
      "text/plain": [
       "<IPython.core.display.HTML object>"
      ]
     },
     "metadata": {},
     "output_type": "display_data"
    }
   ],
   "source": [
    "directory_street_layout = '../data/raw_data/street_data/'\n",
    "directory_city_boundary = '../data/processed_data/city_boundary/'\n",
    "\n",
    "list_files = os.listdir(directory_city_boundary)\n",
    "# Removing README file.\n",
    "list_files.remove('city_boundary_README.mkd')\n",
    "pg = progress_bar(range(len(list_files)))\n",
    "for i in pg:\n",
    "    file = list_files[i]\n",
    "    # Removing the extension.\n",
    "    city_name = file[:-5]\n",
    "    pg.comment = city_name\n",
    "    if not os.path.isfile(directory_street_layout + city_name + '_streets.gpkg'):\n",
    "        city_boundary = gpd.read_file(directory_city_boundary + file)\n",
    "        extract_streets_from_OSM(city_boundary,\n",
    "                                 directory_street_layout + city_name + '_streets.gpkg')"
   ]
  }
 ],
 "metadata": {
  "kernelspec": {
   "display_name": "Python 3 (ipykernel)",
   "language": "python",
   "name": "python3"
  },
  "language_info": {
   "codemirror_mode": {
    "name": "ipython",
    "version": 3
   },
   "file_extension": ".py",
   "mimetype": "text/x-python",
   "name": "python",
   "nbconvert_exporter": "python",
   "pygments_lexer": "ipython3",
   "version": "3.9.7"
  },
  "vscode": {
   "interpreter": {
    "hash": "11eb3bdda620b386ac311b3d07c097973ef5c99cb9184bf1a093190cd8996fdc"
   }
  }
 },
 "nbformat": 4,
 "nbformat_minor": 4
}
