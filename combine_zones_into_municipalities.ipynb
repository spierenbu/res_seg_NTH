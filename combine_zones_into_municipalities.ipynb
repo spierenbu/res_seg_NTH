{
 "cells": [
  {
   "cell_type": "code",
   "execution_count": 1,
   "metadata": {},
   "outputs": [
    {
     "name": "stderr",
     "output_type": "stream",
     "text": [
      "/home/lulu/.pyenv/versions/3.9.7/envs/study_1_venv/lib/python3.9/site-packages/geopandas/_compat.py:111: UserWarning: The Shapely GEOS version (3.9.1-CAPI-1.14.2) is incompatible with the GEOS version PyGEOS was compiled with (3.10.1-CAPI-1.16.0). Conversions between both will be slow.\n",
      "  warnings.warn(\n"
     ]
    }
   ],
   "source": [
    "import pandas as pd\n",
    "import geopandas as gpd\n",
    "import numpy as np\n",
    "from datetime import datetime,timedelta\n",
    "import os\n",
    "from fastprogress.fastprogress import master_bar, progress_bar\n",
    "pd.set_option('mode.chained_assignment','raise')"
   ]
  },
  {
   "cell_type": "code",
   "execution_count": 2,
   "metadata": {},
   "outputs": [],
   "source": [
    "directory_pc_per_city = '../data/processed_data/zones_delineation/'"
   ]
  },
  {
   "cell_type": "code",
   "execution_count": 3,
   "metadata": {},
   "outputs": [],
   "source": [
    "zones = gpd.GeoDataFrame({'Postcode':[],'gemeente':[],'id_unit':[],'area_ratio':[],'geometry':[]}, \n",
    "                         crs = 'EPSG:28992')"
   ]
  },
  {
   "cell_type": "code",
   "execution_count": 4,
   "metadata": {},
   "outputs": [
    {
     "data": {
      "text/html": [
       "\n",
       "    <div>\n",
       "        <style>\n",
       "            /* Turns off some styling */\n",
       "            progress {\n",
       "                /* gets rid of default border in Firefox and Opera. */\n",
       "                border: none;\n",
       "                /* Needs to be in here for Safari polyfill so background images work as expected. */\n",
       "                background-size: auto;\n",
       "            }\n",
       "            .progress-bar-interrupted, .progress-bar-interrupted::-webkit-progress-bar {\n",
       "                background: #F44336;\n",
       "            }\n",
       "        </style>\n",
       "      <progress value='389' class='' max='389' style='width:300px; height:20px; vertical-align: middle;'></progress>\n",
       "      100.00% [389/389 00:49<00:00 Bunschoten]\n",
       "    </div>\n",
       "    "
      ],
      "text/plain": [
       "<IPython.core.display.HTML object>"
      ]
     },
     "metadata": {},
     "output_type": "display_data"
    }
   ],
   "source": [
    "list_files = os.listdir(directory_pc_per_city)\n",
    "list_files.remove('edited')\n",
    "pg = progress_bar(range(len(list_files)))\n",
    "for i in pg:\n",
    "    file = list_files[i]\n",
    "    if file in ('Buitenland.gpkg','README_zones_delineation.mkd'):\n",
    "        continue\n",
    "    # Removing the extension.\n",
    "    city_name = file[3:-5]\n",
    "    pg.comment = city_name\n",
    "    \n",
    "    if os.path.isfile(directory_pc_per_city + 'edited/' + file):\n",
    "        zones_city = gpd.read_file(directory_pc_per_city + 'edited/' +  file)\n",
    "        zones = gpd.GeoDataFrame(pd.concat([zones,zones_city], ignore_index=True), crs=zones.crs)\n",
    "    elif os.path.isfile(directory_pc_per_city + file):\n",
    "        zones_city = gpd.read_file(directory_pc_per_city + file, layer = 'zone')\n",
    "        zones = gpd.GeoDataFrame(pd.concat([zones,zones_city], ignore_index=True), crs=zones.crs)"
   ]
  },
  {
   "cell_type": "code",
   "execution_count": 5,
   "metadata": {},
   "outputs": [],
   "source": [
    "exposure_by_PC = pd.read_csv('../data/results/exposure/exposure_by_spatial_unit.csv')"
   ]
  },
  {
   "cell_type": "code",
   "execution_count": 6,
   "metadata": {},
   "outputs": [],
   "source": [
    "test = zones.merge(exposure_by_PC, on = 'id_unit', how = 'outer')"
   ]
  },
  {
   "cell_type": "code",
   "execution_count": 7,
   "metadata": {},
   "outputs": [],
   "source": [
    "std_per_municipality = test[['gemeente','expos_NW']].groupby(by = 'gemeente').std()\n",
    "std_per_municipality = std_per_municipality.reset_index()\n",
    "std_per_municipality = std_per_municipality.rename(columns = {'expos_NW':'expos_std'})"
   ]
  },
  {
   "cell_type": "code",
   "execution_count": 8,
   "metadata": {},
   "outputs": [],
   "source": [
    "test = test.merge(std_per_municipality,on ='gemeente')"
   ]
  },
  {
   "cell_type": "code",
   "execution_count": 9,
   "metadata": {},
   "outputs": [
    {
     "name": "stderr",
     "output_type": "stream",
     "text": [
      "/home/lulu/.pyenv/versions/3.9.7/envs/study_1_venv/lib/python3.9/site-packages/geopandas/io/file.py:362: FutureWarning: pandas.Int64Index is deprecated and will be removed from pandas in a future version. Use pandas.Index with the appropriate dtype instead.\n",
      "  pd.Int64Index,\n"
     ]
    }
   ],
   "source": [
    "test.to_file('../data/results/exposure_geo.gpkg')"
   ]
  }
 ],
 "metadata": {
  "kernelspec": {
   "display_name": "Python 3.9.7 64-bit ('study_1_venv')",
   "language": "python",
   "name": "python3"
  },
  "language_info": {
   "codemirror_mode": {
    "name": "ipython",
    "version": 3
   },
   "file_extension": ".py",
   "mimetype": "text/x-python",
   "name": "python",
   "nbconvert_exporter": "python",
   "pygments_lexer": "ipython3",
   "version": "3.9.7"
  },
  "orig_nbformat": 4,
  "vscode": {
   "interpreter": {
    "hash": "11eb3bdda620b386ac311b3d07c097973ef5c99cb9184bf1a093190cd8996fdc"
   }
  }
 },
 "nbformat": 4,
 "nbformat_minor": 2
}
