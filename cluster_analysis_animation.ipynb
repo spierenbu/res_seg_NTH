{
 "cells": [
  {
   "cell_type": "code",
   "execution_count": null,
   "metadata": {
    "tags": []
   },
   "outputs": [],
   "source": [
    "import pandas as pd\n",
    "import geopandas as gpd\n",
    "import numpy as np\n",
    "import matplotlib.pyplot as plt\n",
    "from scipy import sparse\n",
    "import os\n",
    "from sklearn.cluster import AgglomerativeClustering\n",
    "from sklearn.preprocessing import StandardScaler\n",
    "from fastprogress.fastprogress import master_bar, progress_bar"
   ]
  },
  {
   "cell_type": "code",
   "execution_count": null,
   "metadata": {},
   "outputs": [],
   "source": [
    "dir_exposure = '../data/results/exposure/'\n",
    "dir_adjacency_matrix = '../data/processed_data/adjacency_matrix/'\n",
    "dir_zones = '../data/processed_data/zones_delineation/'\n",
    "dir_cov_mat = '../data/processed_data/covariance_matrix/'\n",
    "dir_gemeente = '../data/processed_data/city_boundary/'\n",
    "\n",
    "parameters = pd.read_csv('parameter.csv')\n",
    "parameters = parameters.set_index('variable')\n",
    "dissimilarity_threshold = parameters.loc['dissimilarity_threshold','value']"
   ]
  },
  {
   "cell_type": "code",
   "execution_count": null,
   "metadata": {},
   "outputs": [],
   "source": [
    "def cluster_analysis(zones,adjacency_matrix,exposure,list_N_clusters):\n",
    "   \n",
    "    '''\n",
    "    This function aggregates spatial units into homogeneous regions.\n",
    "\n",
    "           Parameters:\n",
    "                    zones (gpd.GeoDataFrame): Spatial units.\n",
    "                    adjacency_matrix (np.array): Matrix indicating the adjacency of spatial units.\n",
    "                    exposure (pd.DataFrame): Exposure in each spatial unit.\n",
    "\n",
    "            Returns:\n",
    "                    zones (gpd.GeoDataFrame): Spatial units with the region they belong to.\n",
    "\n",
    "    '''\n",
    "   # N_component, labels = sparse.csgraph.connected_components(adjacency_matrix)\n",
    "   # if N_component > 1:\n",
    "   #     print(city + ' has a problem')\n",
    "    zones = zones.copy()\n",
    "    zones = zones.loc[:,['id_unit','geometry']]\n",
    "    zones = zones.merge(exposure, on = 'id_unit', how = 'left')\n",
    "    zones['expos_NW'] = zones['expos_NW'].mask(zones['expos_NW'].isna(),zones['share_NW_c'].mean())\n",
    "    zones['expos_rel'] = zones['expos_NW']/zones['share_NW_c']\n",
    "    zones['expos_rel'] = zones['expos_rel'].mask(zones['share_NW_c']==0,0)\n",
    "    X = np.array([zones.loc[:,'expos_NW']]).T\n",
    "\n",
    "    for i in list_N_clusters:\n",
    "        clustering = AgglomerativeClustering(n_clusters=i,\n",
    "                                            connectivity=adjacency_matrix,\n",
    "                                            linkage = 'ward').fit(X)\n",
    "\n",
    "        zones['region_' + str(i)] = clustering.labels_\n",
    "\n",
    "    return zones"
   ]
  },
  {
   "cell_type": "code",
   "execution_count": null,
   "metadata": {},
   "outputs": [],
   "source": [
    "file = 'Leiden.gpkg'\n",
    "city = file[:-5]\n",
    "\n",
    "list_N_clusters = [200,100,50,35,25]\n",
    "exposure = pd.read_csv(dir_exposure + city + '_exposure.csv')\n",
    "adjacency_matrix = sparse.load_npz(dir_adjacency_matrix + city \n",
    "                                    + '_adjacency_matrix.npz')\n",
    "zones = gpd.read_file(dir_zones + 'PC_'+ file,layer = 'zone')\n",
    "zones = cluster_analysis(zones,adjacency_matrix, exposure, list_N_clusters)"
   ]
  },
  {
   "cell_type": "code",
   "execution_count": null,
   "metadata": {},
   "outputs": [],
   "source": [
    "zones[['id_unit','geometry']].rename(columns={'id_unit':'region'}).to_file('../data/results/regions/animation/regions_init.gpkg')\n",
    "k = 1\n",
    "for j in list_N_clusters:\n",
    "    regions = zones[['region_' + str(j),'geometry']].rename(columns = {'region_' + str(j):'region'}).dissolve(by = 'region').reset_index()\n",
    "    regions['iteration'] = k\n",
    "    regions.to_file('../data/results/regions/animation/regions_'  + str(j)+'.gpkg')\n",
    "    k = k + 1"
   ]
  }
 ],
 "metadata": {
  "kernelspec": {
   "display_name": "Python 3.9.7 64-bit ('study_1_venv')",
   "language": "python",
   "name": "python3"
  },
  "language_info": {
   "codemirror_mode": {
    "name": "ipython",
    "version": 3
   },
   "file_extension": ".py",
   "mimetype": "text/x-python",
   "name": "python",
   "nbconvert_exporter": "python",
   "pygments_lexer": "ipython3",
   "version": "3.9.7"
  },
  "vscode": {
   "interpreter": {
    "hash": "11eb3bdda620b386ac311b3d07c097973ef5c99cb9184bf1a093190cd8996fdc"
   }
  }
 },
 "nbformat": 4,
 "nbformat_minor": 4
}
