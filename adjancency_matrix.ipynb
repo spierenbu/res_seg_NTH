{
 "cells": [
  {
   "cell_type": "code",
   "execution_count": 1,
   "metadata": {
    "tags": []
   },
   "outputs": [
    {
     "name": "stderr",
     "output_type": "stream",
     "text": [
      "/home/spierenburg/Documents/PhD/Study_1/code/study_1_venv/lib/python3.9/site-packages/geopandas/_compat.py:111: UserWarning: The Shapely GEOS version (3.9.1-CAPI-1.14.2) is incompatible with the GEOS version PyGEOS was compiled with (3.10.1-CAPI-1.16.0). Conversions between both will be slow.\n",
      "  warnings.warn(\n"
     ]
    }
   ],
   "source": [
    "import pandas as pd\n",
    "import geopandas as gpd\n",
    "import numpy as np\n",
    "import matplotlib.pyplot as plt\n",
    "import os\n",
    "from scipy import sparse\n",
    "from sklearn.cluster import AgglomerativeClustering\n",
    "from sklearn.preprocessing import StandardScaler\n",
    "from fastprogress.fastprogress import master_bar, progress_bar"
   ]
  },
  {
   "cell_type": "code",
   "execution_count": 2,
   "metadata": {},
   "outputs": [
    {
     "data": {
      "text/html": [
       "\n",
       "    <div>\n",
       "        <style>\n",
       "            /* Turns off some styling */\n",
       "            progress {\n",
       "                /* gets rid of default border in Firefox and Opera. */\n",
       "                border: none;\n",
       "                /* Needs to be in here for Safari polyfill so background images work as expected. */\n",
       "                background-size: auto;\n",
       "            }\n",
       "            .progress-bar-interrupted, .progress-bar-interrupted::-webkit-progress-bar {\n",
       "                background: #F44336;\n",
       "            }\n",
       "        </style>\n",
       "      <progress value='388' class='' max='388' style='width:300px; height:20px; vertical-align: middle;'></progress>\n",
       "      100.00% [388/388 24:46<00:00]\n",
       "    </div>\n",
       "    "
      ],
      "text/plain": [
       "<IPython.core.display.HTML object>"
      ]
     },
     "metadata": {},
     "output_type": "display_data"
    },
    {
     "name": "stdout",
     "output_type": "stream",
     "text": [
      "Landerd has a problem. The matrix is not fully connected. There are 2 components.\n",
      "Veere has a problem. The matrix is not fully connected. There are 2 components.\n",
      "Amsterdam has a problem. The matrix is not fully connected. There are 2 components.\n",
      "Baarle_Nassau has a problem. The matrix is not fully connected. There are 8 components.\n",
      "Staphorst has a problem. The matrix is not fully connected. There are 2 components.\n",
      "Losser has a problem. The matrix is not fully connected. There are 2 components.\n",
      "Zuidplas has a problem. The matrix is not fully connected. There are 2 components.\n",
      "Groningen has a problem. The matrix is not fully connected. There are 2 components.\n",
      "Oss has a problem. The matrix is not fully connected. There are 3 components.\n",
      "Rotterdam has a problem. The matrix is not fully connected. There are 2 components.\n"
     ]
    }
   ],
   "source": [
    "dir_adjacency = '../data/processed_data/adjacency_matrix/'\n",
    "dir_adjacency_edited = '../data/processed_data/adjacency_matrix/edited/'\n",
    "dir_zones_ori = '../data/processed_data/zones_delineation/'\n",
    "dir_zones_edited = '../data/processed_data/zones_delineation/edited/'\n",
    "dir_shortest_path = '../data/processed_data/shortest_path/'\n",
    "matrix_stats_per_city = pd.DataFrame({'city':[],'N_regions':[],'largest_comp':[],'N_postcodes':[]})\n",
    "\n",
    "# Initialization of the progress bar.\n",
    "list_files = os.listdir(dir_zones_ori)\n",
    "list_files.remove('edited')\n",
    "list_files.remove('README_zones_delineation.mkd')\n",
    "pb = progress_bar(range(len(list_files)))\n",
    "\n",
    "for i in pb:\n",
    "    file = list_files[i]\n",
    "\n",
    "    city_name = file[3:-5]\n",
    "    \n",
    "    if os.path.isfile(dir_adjacency + city_name + '_adjacency_matrix.npz'):\n",
    "        continue\n",
    "        \n",
    "    zones = gpd.read_file(dir_zones_ori + file)\n",
    "    zones = zones[['id_unit','geometry']]\n",
    "\n",
    "    shortest_path = pd.read_csv(dir_shortest_path + city_name + '_walk_t_unit_to_unit.csv')\n",
    "    # Some shortest paths are duplicated. Keeping only one.\n",
    "    shortest_path = shortest_path.sort_values(by = 'walk_t')\n",
    "    shortest_path = shortest_path.drop_duplicates(subset=['from_id_unit','to_id_unit'])\n",
    "    \n",
    "    adj_tab = zones.sjoin(zones.rename(columns = {'id_unit':'id_unit_2'})) \n",
    "    adj_tab = adj_tab.rename(columns = {'index_right':'adjacency'})\n",
    "\n",
    "    adj_tab['adjacency'] = 1\n",
    "    adj_mat = adj_tab[['id_unit','id_unit_2','adjacency']].pivot(index = 'id_unit',\n",
    "                                                                 columns = 'id_unit_2',\n",
    "                                                                 values = 'adjacency')\n",
    "    adj_mat = adj_mat.replace(np.nan,0)\n",
    "\n",
    "    adj_mat = adj_mat.reindex(zones['id_unit'])\n",
    "    adj_mat = adj_mat.transpose() \n",
    "    adj_mat = adj_mat.reindex(zones['id_unit'].rename('id_unit_2'))\n",
    "\n",
    "    \n",
    "    # Distance matrix.\n",
    "    shortest_path['walk_t'] = 1\n",
    "    shortest_path.loc[:,'walk_t'] = shortest_path.mask(shortest_path['from_id_unit'] == shortest_path['to_id_unit'],0)\n",
    "    shortest_path.loc[:,'walk_t'] = shortest_path['walk_t'].astype(np.int8)\n",
    "\n",
    "    distance_mat = shortest_path.pivot(index= 'from_id_unit',\n",
    "                                       columns = 'to_id_unit',\n",
    "                                       values = 'walk_t')\n",
    "    distance_mat = distance_mat.reindex(zones['id_unit'].rename('from_id_unit'))\n",
    "    distance_mat = distance_mat.replace(np.nan,0)\n",
    "\n",
    "    # For the zones that have no shortest path to other zones on the map, we dismiss the shortest path.\n",
    "    # For that, we set the column and the row to 1.\n",
    "    distance_mat = distance_mat.mask(distance_mat.sum() == 0, 1)\n",
    "    distance_mat = distance_mat.transpose() \n",
    "    distance_mat = distance_mat.reindex(zones['id_unit'].rename('to_id_unit'))\n",
    "    distance_mat = distance_mat.mask(distance_mat.sum() == len(distance_mat), 1)\n",
    "\n",
    "    distance_mat = distance_mat.to_numpy()\n",
    "    np.fill_diagonal(distance_mat,1)\n",
    "\n",
    "    adj_mat = np.logical_and(distance_mat, adj_mat)\n",
    "    \n",
    "    adj_mat_ar_coo = adj_mat.to_numpy()\n",
    "    adj_mat_ar_coo = sparse.coo_matrix(adj_mat_ar_coo)\n",
    "\n",
    "    N_component, labels = sparse.csgraph.connected_components(adj_mat_ar_coo)\n",
    "    \n",
    "    # If there is no isolated island, we can save directly the matrix.\n",
    "    if N_component == 1:\n",
    "        sparse.save_npz(dir_adjacency + city_name + '_adjacency_matrix.npz', adj_mat_ar_coo)\n",
    "        continue\n",
    "        \n",
    "    # Otherwise we need to reconnect isolated components.\n",
    "    zones['label'] = labels\n",
    "    # We reconstruct the adjancency matrix.\n",
    "    adj_tab_reco = zones.sjoin(zones.rename(columns = {'id_unit':'id_unit_2'}),lsuffix = '1',rsuffix = '2') \n",
    "    adj_tab_reco = adj_tab_reco.rename(columns = {'index_right':'adjacency'})\n",
    "\n",
    "    # Adjacency is 1 if two zones are adjacent.\n",
    "    adj_tab_reco['adjacency'] = 1\n",
    "    # We set adjacency to 0 for the adjacent zones that are in the same connected component.\n",
    "    adj_tab_reco['adjacency'] = adj_tab_reco['adjacency'].mask(adj_tab_reco['label_1'] == adj_tab_reco['label_2'], 0)\n",
    "\n",
    "    adj_mat_reco = adj_tab_reco[['id_unit','id_unit_2','adjacency']].pivot(index = 'id_unit',\n",
    "                                                                           columns = 'id_unit_2',\n",
    "                                                                           values = 'adjacency')\n",
    "    adj_mat_reco = adj_mat_reco.replace(np.nan,0)\n",
    "    adj_mat_reco = adj_mat_reco.reindex(zones['id_unit'])\n",
    "    adj_mat_reco = adj_mat_reco.transpose() \n",
    "    adj_mat_reco = adj_mat_reco.reindex(zones['id_unit'].rename('id_unit_2'))\n",
    "    \n",
    "    adj_mat = adj_mat.replace(True, 1)\n",
    "    adj_mat = adj_mat.replace(False, 0)\n",
    "    adj_mat_fin = adj_mat_reco + adj_mat\n",
    "    adj_mat_fin = adj_mat_fin.replace(2,1)\n",
    "    \n",
    "    if len(adj_mat_fin)!= len(zones):\n",
    "        print(city_name + ' has a problem. The length of the zones is different from the adjacency matrix.')\n",
    "        \n",
    "    adj_mat_fin = adj_mat_fin.to_numpy()\n",
    "    adj_mat_fin = sparse.coo_matrix(adj_mat_fin)\n",
    "    \n",
    "    sparse.save_npz(dir_adjacency + city_name + '_adjacency_matrix.npz', adj_mat_fin)\n",
    "\n",
    "    N_component, labels = sparse.csgraph.connected_components(adj_mat_fin)\n",
    "\n",
    "    if N_component>1:\n",
    "        print(city_name + ' has a problem. The matrix is not fully connected. There are ' + str(N_component) + ' components.')\n",
    "    \n",
    "    #sparse.save_npz(dir_adjacency_edited + city_name + '_adjacency_matrix.npz', adjacency_matrix)"
   ]
  },
  {
   "cell_type": "markdown",
   "metadata": {
    "tags": []
   },
   "source": [
    "# Connect disconnected components in adjacency matrices per city."
   ]
  },
  {
   "cell_type": "code",
   "execution_count": 3,
   "metadata": {},
   "outputs": [],
   "source": [
    "dir_zones = dir_zones_ori"
   ]
  },
  {
   "cell_type": "code",
   "execution_count": 4,
   "metadata": {},
   "outputs": [
    {
     "name": "stdout",
     "output_type": "stream",
     "text": [
      "Landerd has 2 components.\n",
      "Veere has 2 components.\n",
      "Amsterdam has 2 components.\n",
      "Baarle_Nassau has 8 components.\n",
      "Staphorst has 2 components.\n",
      "Losser has 2 components.\n",
      "Zuidplas has 2 components.\n",
      "Groningen has 2 components.\n",
      "Oss has 3 components.\n",
      "Rotterdam has 2 components.\n"
     ]
    }
   ],
   "source": [
    "for i in list_files:\n",
    "    city_name = i[3:-5]\n",
    "\n",
    "    adjacency_matrix = sparse.load_npz(dir_adjacency + city_name + '_adjacency_matrix.npz')\n",
    "    N_component, labels = sparse.csgraph.connected_components(adjacency_matrix)\n",
    "    if N_component >1:\n",
    "        print(city_name + ' has ' + str(N_component) + ' components.')"
   ]
  },
  {
   "cell_type": "markdown",
   "metadata": {},
   "source": [
    "- Veere: Remove 4361SE0\n",
    "- Landerd: Remove 5411VD0,5409TC0\n",
    "- Staphorst: Remove 8035RL0\n",
    "- Losser: Remove 7574PE\n",
    "- Zuidplas: Remove 2741JW0\n",
    "- Groningen: Remove 9747AK0\n",
    "- Oss: remove 5386LE, 5374RA1\n",
    "- Rotterdam: remove 3198LD1"
   ]
  },
  {
   "cell_type": "markdown",
   "metadata": {},
   "source": [
    "### Veere"
   ]
  },
  {
   "cell_type": "code",
   "execution_count": 5,
   "metadata": {},
   "outputs": [
    {
     "data": {
      "text/html": [
       "<div>\n",
       "<style scoped>\n",
       "    .dataframe tbody tr th:only-of-type {\n",
       "        vertical-align: middle;\n",
       "    }\n",
       "\n",
       "    .dataframe tbody tr th {\n",
       "        vertical-align: top;\n",
       "    }\n",
       "\n",
       "    .dataframe thead th {\n",
       "        text-align: right;\n",
       "    }\n",
       "</style>\n",
       "<table border=\"1\" class=\"dataframe\">\n",
       "  <thead>\n",
       "    <tr style=\"text-align: right;\">\n",
       "      <th></th>\n",
       "      <th>id_unit</th>\n",
       "      <th>geometry</th>\n",
       "      <th>label</th>\n",
       "    </tr>\n",
       "  </thead>\n",
       "  <tbody>\n",
       "    <tr>\n",
       "      <th>0</th>\n",
       "      <td>3011AB0</td>\n",
       "      <td>POLYGON ((92671.110 437161.384, 92699.230 4371...</td>\n",
       "      <td>0</td>\n",
       "    </tr>\n",
       "    <tr>\n",
       "      <th>1</th>\n",
       "      <td>3011AB1</td>\n",
       "      <td>POLYGON ((92673.700 437196.146, 92658.060 4371...</td>\n",
       "      <td>0</td>\n",
       "    </tr>\n",
       "    <tr>\n",
       "      <th>2</th>\n",
       "      <td>3011AC0</td>\n",
       "      <td>POLYGON ((92741.660 437146.960, 92740.490 4371...</td>\n",
       "      <td>0</td>\n",
       "    </tr>\n",
       "    <tr>\n",
       "      <th>3</th>\n",
       "      <td>3011AC1</td>\n",
       "      <td>POLYGON ((92712.520 437207.453, 92718.771 4371...</td>\n",
       "      <td>0</td>\n",
       "    </tr>\n",
       "    <tr>\n",
       "      <th>4</th>\n",
       "      <td>3011AG0</td>\n",
       "      <td>POLYGON ((92661.434 437135.605, 92688.560 4371...</td>\n",
       "      <td>0</td>\n",
       "    </tr>\n",
       "    <tr>\n",
       "      <th>...</th>\n",
       "      <td>...</td>\n",
       "      <td>...</td>\n",
       "      <td>...</td>\n",
       "    </tr>\n",
       "    <tr>\n",
       "      <th>16373</th>\n",
       "      <td>3198LZ0</td>\n",
       "      <td>POLYGON ((74981.705 435363.066, 74982.575 4353...</td>\n",
       "      <td>0</td>\n",
       "    </tr>\n",
       "    <tr>\n",
       "      <th>16374</th>\n",
       "      <td>3201AW0</td>\n",
       "      <td>POLYGON ((83098.556 430293.617, 83014.754 4302...</td>\n",
       "      <td>0</td>\n",
       "    </tr>\n",
       "    <tr>\n",
       "      <th>16375</th>\n",
       "      <td>3201LS0</td>\n",
       "      <td>POLYGON ((83413.691 430257.228, 83422.635 4302...</td>\n",
       "      <td>0</td>\n",
       "    </tr>\n",
       "    <tr>\n",
       "      <th>16376</th>\n",
       "      <td>3202LB0</td>\n",
       "      <td>POLYGON ((82895.319 431669.821, 82898.160 4316...</td>\n",
       "      <td>0</td>\n",
       "    </tr>\n",
       "    <tr>\n",
       "      <th>16377</th>\n",
       "      <td>3207RE0</td>\n",
       "      <td>POLYGON ((84018.418 429549.614, 84040.287 4294...</td>\n",
       "      <td>0</td>\n",
       "    </tr>\n",
       "  </tbody>\n",
       "</table>\n",
       "<p>16378 rows × 3 columns</p>\n",
       "</div>"
      ],
      "text/plain": [
       "       id_unit                                           geometry  label\n",
       "0      3011AB0  POLYGON ((92671.110 437161.384, 92699.230 4371...      0\n",
       "1      3011AB1  POLYGON ((92673.700 437196.146, 92658.060 4371...      0\n",
       "2      3011AC0  POLYGON ((92741.660 437146.960, 92740.490 4371...      0\n",
       "3      3011AC1  POLYGON ((92712.520 437207.453, 92718.771 4371...      0\n",
       "4      3011AG0  POLYGON ((92661.434 437135.605, 92688.560 4371...      0\n",
       "...        ...                                                ...    ...\n",
       "16373  3198LZ0  POLYGON ((74981.705 435363.066, 74982.575 4353...      0\n",
       "16374  3201AW0  POLYGON ((83098.556 430293.617, 83014.754 4302...      0\n",
       "16375  3201LS0  POLYGON ((83413.691 430257.228, 83422.635 4302...      0\n",
       "16376  3202LB0  POLYGON ((82895.319 431669.821, 82898.160 4316...      0\n",
       "16377  3207RE0  POLYGON ((84018.418 429549.614, 84040.287 4294...      0\n",
       "\n",
       "[16378 rows x 3 columns]"
      ]
     },
     "execution_count": 5,
     "metadata": {},
     "output_type": "execute_result"
    }
   ],
   "source": [
    "zones"
   ]
  },
  {
   "cell_type": "code",
   "execution_count": 6,
   "metadata": {},
   "outputs": [
    {
     "data": {
      "text/html": [
       "<div>\n",
       "<style scoped>\n",
       "    .dataframe tbody tr th:only-of-type {\n",
       "        vertical-align: middle;\n",
       "    }\n",
       "\n",
       "    .dataframe tbody tr th {\n",
       "        vertical-align: top;\n",
       "    }\n",
       "\n",
       "    .dataframe thead th {\n",
       "        text-align: right;\n",
       "    }\n",
       "</style>\n",
       "<table border=\"1\" class=\"dataframe\">\n",
       "  <thead>\n",
       "    <tr style=\"text-align: right;\">\n",
       "      <th></th>\n",
       "      <th>Postcode</th>\n",
       "      <th>gemeente</th>\n",
       "      <th>id_unit</th>\n",
       "      <th>area_ratio</th>\n",
       "      <th>geometry</th>\n",
       "      <th>component</th>\n",
       "    </tr>\n",
       "  </thead>\n",
       "  <tbody>\n",
       "    <tr>\n",
       "      <th>1333</th>\n",
       "      <td>4361SR</td>\n",
       "      <td>Veere</td>\n",
       "      <td>4361SR0</td>\n",
       "      <td>1.0</td>\n",
       "      <td>POLYGON ((19899.768 394428.251, 19909.724 3944...</td>\n",
       "      <td>1</td>\n",
       "    </tr>\n",
       "  </tbody>\n",
       "</table>\n",
       "</div>"
      ],
      "text/plain": [
       "     Postcode gemeente  id_unit  area_ratio  \\\n",
       "1333   4361SR    Veere  4361SR0         1.0   \n",
       "\n",
       "                                               geometry  component  \n",
       "1333  POLYGON ((19899.768 394428.251, 19909.724 3944...          1  "
      ]
     },
     "execution_count": 6,
     "metadata": {},
     "output_type": "execute_result"
    }
   ],
   "source": [
    "city = 'Veere'\n",
    "\n",
    "zones =  gpd.read_file(dir_zones + 'PC_'+ city + '.gpkg')\n",
    "\n",
    "adjacency_matrix = sparse.load_npz(dir_adjacency + city + '_adjacency_matrix.npz')\n",
    "\n",
    "N_component, labels = sparse.csgraph.connected_components(adjacency_matrix)\n",
    "adjacency_matrix = adjacency_matrix.toarray()\n",
    "\n",
    "zones['component'] = labels\n",
    "zones.loc[zones['component'] != 0]"
   ]
  },
  {
   "cell_type": "code",
   "execution_count": 7,
   "metadata": {},
   "outputs": [],
   "source": [
    "adjacency_matrix = np.delete(adjacency_matrix, (1333), axis=0)\n",
    "adjacency_matrix = np.delete(adjacency_matrix, (1333), axis=1)"
   ]
  },
  {
   "cell_type": "code",
   "execution_count": 8,
   "metadata": {},
   "outputs": [
    {
     "name": "stderr",
     "output_type": "stream",
     "text": [
      "/home/spierenburg/Documents/PhD/Study_1/code/study_1_venv/lib/python3.9/site-packages/geopandas/io/file.py:362: FutureWarning: pandas.Int64Index is deprecated and will be removed from pandas in a future version. Use pandas.Index with the appropriate dtype instead.\n",
      "  pd.Int64Index,\n"
     ]
    }
   ],
   "source": [
    "zones = zones.loc[zones['component'] == 0].reset_index(drop = True)\n",
    "zones = zones.drop(columns ='component')\n",
    "zones.to_file(dir_zones_edited + 'PC_'  + city + '.gpkg')\n",
    "\n",
    "adjacency_matrix = sparse.coo_matrix(adjacency_matrix)\n",
    "\n",
    "sparse.save_npz(dir_adjacency_edited + city + '_adjacency_matrix.npz', adjacency_matrix)"
   ]
  },
  {
   "cell_type": "markdown",
   "metadata": {
    "tags": []
   },
   "source": [
    "### Landerd"
   ]
  },
  {
   "cell_type": "code",
   "execution_count": 9,
   "metadata": {},
   "outputs": [
    {
     "data": {
      "text/html": [
       "<div>\n",
       "<style scoped>\n",
       "    .dataframe tbody tr th:only-of-type {\n",
       "        vertical-align: middle;\n",
       "    }\n",
       "\n",
       "    .dataframe tbody tr th {\n",
       "        vertical-align: top;\n",
       "    }\n",
       "\n",
       "    .dataframe thead th {\n",
       "        text-align: right;\n",
       "    }\n",
       "</style>\n",
       "<table border=\"1\" class=\"dataframe\">\n",
       "  <thead>\n",
       "    <tr style=\"text-align: right;\">\n",
       "      <th></th>\n",
       "      <th>Postcode</th>\n",
       "      <th>gemeente</th>\n",
       "      <th>id_unit</th>\n",
       "      <th>area_ratio</th>\n",
       "      <th>geometry</th>\n",
       "      <th>component</th>\n",
       "    </tr>\n",
       "  </thead>\n",
       "  <tbody>\n",
       "    <tr>\n",
       "      <th>540</th>\n",
       "      <td>5411VD</td>\n",
       "      <td>Landerd</td>\n",
       "      <td>5411VD0</td>\n",
       "      <td>1.0</td>\n",
       "      <td>POLYGON ((179437.021 407495.832, 179400.705 40...</td>\n",
       "      <td>1</td>\n",
       "    </tr>\n",
       "    <tr>\n",
       "      <th>549</th>\n",
       "      <td>5409TC</td>\n",
       "      <td>Landerd</td>\n",
       "      <td>5409TC0</td>\n",
       "      <td>1.0</td>\n",
       "      <td>POLYGON ((179513.621 407091.494, 179407.096 40...</td>\n",
       "      <td>1</td>\n",
       "    </tr>\n",
       "  </tbody>\n",
       "</table>\n",
       "</div>"
      ],
      "text/plain": [
       "    Postcode gemeente  id_unit  area_ratio  \\\n",
       "540   5411VD  Landerd  5411VD0         1.0   \n",
       "549   5409TC  Landerd  5409TC0         1.0   \n",
       "\n",
       "                                              geometry  component  \n",
       "540  POLYGON ((179437.021 407495.832, 179400.705 40...          1  \n",
       "549  POLYGON ((179513.621 407091.494, 179407.096 40...          1  "
      ]
     },
     "execution_count": 9,
     "metadata": {},
     "output_type": "execute_result"
    }
   ],
   "source": [
    "city = 'Landerd'\n",
    "\n",
    "zones =  gpd.read_file(dir_zones + 'PC_'+ city + '.gpkg')\n",
    "#zones = zones[['Postcode','id_unit','area_ratio','geometry']]\n",
    "adjacency_matrix = sparse.load_npz(dir_adjacency + city + '_adjacency_matrix.npz')\n",
    "\n",
    "N_component, labels = sparse.csgraph.connected_components(adjacency_matrix)\n",
    "adjacency_matrix = adjacency_matrix.toarray()\n",
    "\n",
    "zones['component'] = labels\n",
    "zones.loc[zones['component'] != 0]"
   ]
  },
  {
   "cell_type": "code",
   "execution_count": 10,
   "metadata": {},
   "outputs": [],
   "source": [
    "adjacency_matrix = np.delete(adjacency_matrix, (549), axis=0)\n",
    "adjacency_matrix = np.delete(adjacency_matrix, (549), axis=1)\n",
    "adjacency_matrix = np.delete(adjacency_matrix, (540), axis=0)\n",
    "adjacency_matrix = np.delete(adjacency_matrix, (540), axis=1)"
   ]
  },
  {
   "cell_type": "code",
   "execution_count": 11,
   "metadata": {},
   "outputs": [
    {
     "name": "stderr",
     "output_type": "stream",
     "text": [
      "/home/spierenburg/Documents/PhD/Study_1/code/study_1_venv/lib/python3.9/site-packages/geopandas/io/file.py:362: FutureWarning: pandas.Int64Index is deprecated and will be removed from pandas in a future version. Use pandas.Index with the appropriate dtype instead.\n",
      "  pd.Int64Index,\n"
     ]
    }
   ],
   "source": [
    "zones = zones.loc[zones['component'] == 0].reset_index(drop = True)\n",
    "zones = zones.drop(columns ='component')\n",
    "zones.to_file(dir_zones_edited + 'PC_'  + city + '.gpkg')\n",
    "\n",
    "adjacency_matrix = sparse.coo_matrix(adjacency_matrix)\n",
    "\n",
    "sparse.save_npz(dir_adjacency_edited + city + '_adjacency_matrix.npz', adjacency_matrix)"
   ]
  },
  {
   "cell_type": "markdown",
   "metadata": {},
   "source": [
    "### Staphorst"
   ]
  },
  {
   "cell_type": "code",
   "execution_count": 12,
   "metadata": {},
   "outputs": [
    {
     "data": {
      "text/html": [
       "<div>\n",
       "<style scoped>\n",
       "    .dataframe tbody tr th:only-of-type {\n",
       "        vertical-align: middle;\n",
       "    }\n",
       "\n",
       "    .dataframe tbody tr th {\n",
       "        vertical-align: top;\n",
       "    }\n",
       "\n",
       "    .dataframe thead th {\n",
       "        text-align: right;\n",
       "    }\n",
       "</style>\n",
       "<table border=\"1\" class=\"dataframe\">\n",
       "  <thead>\n",
       "    <tr style=\"text-align: right;\">\n",
       "      <th></th>\n",
       "      <th>Postcode</th>\n",
       "      <th>gemeente</th>\n",
       "      <th>id_unit</th>\n",
       "      <th>area_ratio</th>\n",
       "      <th>geometry</th>\n",
       "      <th>component</th>\n",
       "    </tr>\n",
       "  </thead>\n",
       "  <tbody>\n",
       "    <tr>\n",
       "      <th>575</th>\n",
       "      <td>8035RL</td>\n",
       "      <td>Staphorst</td>\n",
       "      <td>8035RL0</td>\n",
       "      <td>0.3479</td>\n",
       "      <td>POLYGON ((206985.783 511050.780, 207010.660 51...</td>\n",
       "      <td>1</td>\n",
       "    </tr>\n",
       "  </tbody>\n",
       "</table>\n",
       "</div>"
      ],
      "text/plain": [
       "    Postcode   gemeente  id_unit  area_ratio  \\\n",
       "575   8035RL  Staphorst  8035RL0      0.3479   \n",
       "\n",
       "                                              geometry  component  \n",
       "575  POLYGON ((206985.783 511050.780, 207010.660 51...          1  "
      ]
     },
     "execution_count": 12,
     "metadata": {},
     "output_type": "execute_result"
    }
   ],
   "source": [
    "city = 'Staphorst'\n",
    "\n",
    "zones =  gpd.read_file(dir_zones + 'PC_'+ city + '.gpkg')\n",
    "#zones = zones[['Postcode','id_unit','area_ratio','geometry']]\n",
    "adjacency_matrix = sparse.load_npz(dir_adjacency + city + '_adjacency_matrix.npz')\n",
    "\n",
    "N_component, labels = sparse.csgraph.connected_components(adjacency_matrix)\n",
    "adjacency_matrix = adjacency_matrix.toarray()\n",
    "\n",
    "zones['component'] = labels\n",
    "zones.loc[zones['component'] != 0]"
   ]
  },
  {
   "cell_type": "code",
   "execution_count": 13,
   "metadata": {},
   "outputs": [],
   "source": [
    "adjacency_matrix = np.delete(adjacency_matrix, (575), axis=0)\n",
    "adjacency_matrix = np.delete(adjacency_matrix, (575), axis=1)"
   ]
  },
  {
   "cell_type": "code",
   "execution_count": 14,
   "metadata": {},
   "outputs": [
    {
     "name": "stderr",
     "output_type": "stream",
     "text": [
      "/home/spierenburg/Documents/PhD/Study_1/code/study_1_venv/lib/python3.9/site-packages/geopandas/io/file.py:362: FutureWarning: pandas.Int64Index is deprecated and will be removed from pandas in a future version. Use pandas.Index with the appropriate dtype instead.\n",
      "  pd.Int64Index,\n"
     ]
    }
   ],
   "source": [
    "zones = zones.loc[zones['component'] == 0].reset_index(drop = True)\n",
    "zones = zones.drop(columns ='component')\n",
    "zones.to_file(dir_zones_edited + 'PC_'  + city + '.gpkg')\n",
    "\n",
    "adjacency_matrix = sparse.coo_matrix(adjacency_matrix)\n",
    "\n",
    "sparse.save_npz(dir_adjacency_edited + city + '_adjacency_matrix.npz', adjacency_matrix)"
   ]
  },
  {
   "cell_type": "markdown",
   "metadata": {},
   "source": [
    "### Losser"
   ]
  },
  {
   "cell_type": "code",
   "execution_count": 15,
   "metadata": {},
   "outputs": [
    {
     "data": {
      "text/html": [
       "<div>\n",
       "<style scoped>\n",
       "    .dataframe tbody tr th:only-of-type {\n",
       "        vertical-align: middle;\n",
       "    }\n",
       "\n",
       "    .dataframe tbody tr th {\n",
       "        vertical-align: top;\n",
       "    }\n",
       "\n",
       "    .dataframe thead th {\n",
       "        text-align: right;\n",
       "    }\n",
       "</style>\n",
       "<table border=\"1\" class=\"dataframe\">\n",
       "  <thead>\n",
       "    <tr style=\"text-align: right;\">\n",
       "      <th></th>\n",
       "      <th>Postcode</th>\n",
       "      <th>gemeente</th>\n",
       "      <th>id_unit</th>\n",
       "      <th>area_ratio</th>\n",
       "      <th>geometry</th>\n",
       "      <th>component</th>\n",
       "    </tr>\n",
       "  </thead>\n",
       "  <tbody>\n",
       "    <tr>\n",
       "      <th>958</th>\n",
       "      <td>7574PE</td>\n",
       "      <td>Losser</td>\n",
       "      <td>7574PE1</td>\n",
       "      <td>0.787229</td>\n",
       "      <td>POLYGON ((260556.553 479386.872, 260571.348 47...</td>\n",
       "      <td>1</td>\n",
       "    </tr>\n",
       "  </tbody>\n",
       "</table>\n",
       "</div>"
      ],
      "text/plain": [
       "    Postcode gemeente  id_unit  area_ratio  \\\n",
       "958   7574PE   Losser  7574PE1    0.787229   \n",
       "\n",
       "                                              geometry  component  \n",
       "958  POLYGON ((260556.553 479386.872, 260571.348 47...          1  "
      ]
     },
     "execution_count": 15,
     "metadata": {},
     "output_type": "execute_result"
    }
   ],
   "source": [
    "city = 'Losser'\n",
    "\n",
    "zones =  gpd.read_file(dir_zones + 'PC_'+ city + '.gpkg')\n",
    "#zones = zones[['Postcode','id_unit','area_ratio','geometry']]\n",
    "adjacency_matrix = sparse.load_npz(dir_adjacency + city + '_adjacency_matrix.npz')\n",
    "\n",
    "N_component, labels = sparse.csgraph.connected_components(adjacency_matrix)\n",
    "adjacency_matrix = adjacency_matrix.toarray()\n",
    "\n",
    "zones['component'] = labels\n",
    "zones.loc[zones['component'] != 0]"
   ]
  },
  {
   "cell_type": "code",
   "execution_count": 16,
   "metadata": {},
   "outputs": [
    {
     "name": "stderr",
     "output_type": "stream",
     "text": [
      "/home/spierenburg/Documents/PhD/Study_1/code/study_1_venv/lib/python3.9/site-packages/geopandas/io/file.py:362: FutureWarning: pandas.Int64Index is deprecated and will be removed from pandas in a future version. Use pandas.Index with the appropriate dtype instead.\n",
      "  pd.Int64Index,\n"
     ]
    }
   ],
   "source": [
    "adjacency_matrix = np.delete(adjacency_matrix, (958), axis=0)\n",
    "adjacency_matrix = np.delete(adjacency_matrix, (958), axis=1)\n",
    "\n",
    "zones = zones.loc[zones['component'] == 0].reset_index(drop = True)\n",
    "zones = zones.drop(columns ='component')\n",
    "zones.to_file(dir_zones_edited + 'PC_'  + city + '.gpkg')\n",
    "\n",
    "adjacency_matrix = sparse.coo_matrix(adjacency_matrix)\n",
    "\n",
    "sparse.save_npz(dir_adjacency_edited + city + '_adjacency_matrix.npz', adjacency_matrix)"
   ]
  },
  {
   "cell_type": "markdown",
   "metadata": {},
   "source": [
    "### Zuidplas"
   ]
  },
  {
   "cell_type": "code",
   "execution_count": 17,
   "metadata": {},
   "outputs": [
    {
     "data": {
      "text/html": [
       "<div>\n",
       "<style scoped>\n",
       "    .dataframe tbody tr th:only-of-type {\n",
       "        vertical-align: middle;\n",
       "    }\n",
       "\n",
       "    .dataframe tbody tr th {\n",
       "        vertical-align: top;\n",
       "    }\n",
       "\n",
       "    .dataframe thead th {\n",
       "        text-align: right;\n",
       "    }\n",
       "</style>\n",
       "<table border=\"1\" class=\"dataframe\">\n",
       "  <thead>\n",
       "    <tr style=\"text-align: right;\">\n",
       "      <th></th>\n",
       "      <th>Postcode</th>\n",
       "      <th>gemeente</th>\n",
       "      <th>id_unit</th>\n",
       "      <th>area_ratio</th>\n",
       "      <th>geometry</th>\n",
       "      <th>component</th>\n",
       "    </tr>\n",
       "  </thead>\n",
       "  <tbody>\n",
       "    <tr>\n",
       "      <th>1187</th>\n",
       "      <td>2741JW</td>\n",
       "      <td>Zuidplas</td>\n",
       "      <td>2741JW0</td>\n",
       "      <td>1.0</td>\n",
       "      <td>POLYGON ((105777.337 448458.308, 105774.787 44...</td>\n",
       "      <td>1</td>\n",
       "    </tr>\n",
       "  </tbody>\n",
       "</table>\n",
       "</div>"
      ],
      "text/plain": [
       "     Postcode  gemeente  id_unit  area_ratio  \\\n",
       "1187   2741JW  Zuidplas  2741JW0         1.0   \n",
       "\n",
       "                                               geometry  component  \n",
       "1187  POLYGON ((105777.337 448458.308, 105774.787 44...          1  "
      ]
     },
     "execution_count": 17,
     "metadata": {},
     "output_type": "execute_result"
    }
   ],
   "source": [
    "city = 'Zuidplas'\n",
    "\n",
    "zones =  gpd.read_file(dir_zones + 'PC_'+ city + '.gpkg')\n",
    "#zones = zones[['Postcode','id_unit','area_ratio','geometry']]\n",
    "adjacency_matrix = sparse.load_npz(dir_adjacency + city + '_adjacency_matrix.npz')\n",
    "\n",
    "N_component, labels = sparse.csgraph.connected_components(adjacency_matrix)\n",
    "adjacency_matrix = adjacency_matrix.toarray()\n",
    "\n",
    "zones['component'] = labels\n",
    "zones.loc[zones['component'] != 0]"
   ]
  },
  {
   "cell_type": "code",
   "execution_count": 18,
   "metadata": {},
   "outputs": [
    {
     "name": "stderr",
     "output_type": "stream",
     "text": [
      "/home/spierenburg/Documents/PhD/Study_1/code/study_1_venv/lib/python3.9/site-packages/geopandas/io/file.py:362: FutureWarning: pandas.Int64Index is deprecated and will be removed from pandas in a future version. Use pandas.Index with the appropriate dtype instead.\n",
      "  pd.Int64Index,\n"
     ]
    }
   ],
   "source": [
    "adjacency_matrix = np.delete(adjacency_matrix, (1187), axis=0)\n",
    "adjacency_matrix = np.delete(adjacency_matrix, (1187), axis=1)\n",
    "\n",
    "zones = zones.loc[zones['component'] == 0].reset_index(drop = True)\n",
    "zones = zones.drop(columns ='component')\n",
    "zones.to_file(dir_zones_edited + 'PC_'  + city + '.gpkg')\n",
    "\n",
    "adjacency_matrix = sparse.coo_matrix(adjacency_matrix)\n",
    "\n",
    "sparse.save_npz(dir_adjacency_edited + city + '_adjacency_matrix.npz', adjacency_matrix)"
   ]
  },
  {
   "cell_type": "markdown",
   "metadata": {},
   "source": [
    "### Groningen"
   ]
  },
  {
   "cell_type": "code",
   "execution_count": 19,
   "metadata": {},
   "outputs": [
    {
     "data": {
      "text/html": [
       "<div>\n",
       "<style scoped>\n",
       "    .dataframe tbody tr th:only-of-type {\n",
       "        vertical-align: middle;\n",
       "    }\n",
       "\n",
       "    .dataframe tbody tr th {\n",
       "        vertical-align: top;\n",
       "    }\n",
       "\n",
       "    .dataframe thead th {\n",
       "        text-align: right;\n",
       "    }\n",
       "</style>\n",
       "<table border=\"1\" class=\"dataframe\">\n",
       "  <thead>\n",
       "    <tr style=\"text-align: right;\">\n",
       "      <th></th>\n",
       "      <th>Postcode</th>\n",
       "      <th>gemeente</th>\n",
       "      <th>id_unit</th>\n",
       "      <th>area_ratio</th>\n",
       "      <th>geometry</th>\n",
       "      <th>component</th>\n",
       "    </tr>\n",
       "  </thead>\n",
       "  <tbody>\n",
       "    <tr>\n",
       "      <th>6605</th>\n",
       "      <td>9747AK</td>\n",
       "      <td>Groningen</td>\n",
       "      <td>9747AK0</td>\n",
       "      <td>1.0</td>\n",
       "      <td>POLYGON ((229897.117 586134.703, 229897.523 58...</td>\n",
       "      <td>1</td>\n",
       "    </tr>\n",
       "  </tbody>\n",
       "</table>\n",
       "</div>"
      ],
      "text/plain": [
       "     Postcode   gemeente  id_unit  area_ratio  \\\n",
       "6605   9747AK  Groningen  9747AK0         1.0   \n",
       "\n",
       "                                               geometry  component  \n",
       "6605  POLYGON ((229897.117 586134.703, 229897.523 58...          1  "
      ]
     },
     "execution_count": 19,
     "metadata": {},
     "output_type": "execute_result"
    }
   ],
   "source": [
    "city = 'Groningen'\n",
    "\n",
    "zones =  gpd.read_file(dir_zones + 'PC_'+ city + '.gpkg')\n",
    "#zones = zones[['Postcode','id_unit','area_ratio','geometry']]\n",
    "adjacency_matrix = sparse.load_npz(dir_adjacency + city + '_adjacency_matrix.npz')\n",
    "\n",
    "N_component, labels = sparse.csgraph.connected_components(adjacency_matrix)\n",
    "adjacency_matrix = adjacency_matrix.toarray()\n",
    "\n",
    "zones['component'] = labels\n",
    "zones.loc[zones['component'] != 0]"
   ]
  },
  {
   "cell_type": "code",
   "execution_count": 20,
   "metadata": {},
   "outputs": [
    {
     "name": "stderr",
     "output_type": "stream",
     "text": [
      "/home/spierenburg/Documents/PhD/Study_1/code/study_1_venv/lib/python3.9/site-packages/geopandas/io/file.py:362: FutureWarning: pandas.Int64Index is deprecated and will be removed from pandas in a future version. Use pandas.Index with the appropriate dtype instead.\n",
      "  pd.Int64Index,\n"
     ]
    }
   ],
   "source": [
    "adjacency_matrix = np.delete(adjacency_matrix, (6605), axis=0)\n",
    "adjacency_matrix = np.delete(adjacency_matrix, (6605), axis=1)\n",
    "\n",
    "zones = zones.loc[zones['component'] == 0].reset_index(drop = True)\n",
    "zones = zones.drop(columns ='component')\n",
    "zones.to_file(dir_zones_edited + 'PC_'  + city + '.gpkg')\n",
    "\n",
    "adjacency_matrix = sparse.coo_matrix(adjacency_matrix)\n",
    "\n",
    "sparse.save_npz(dir_adjacency_edited + city + '_adjacency_matrix.npz', adjacency_matrix)"
   ]
  },
  {
   "cell_type": "markdown",
   "metadata": {},
   "source": [
    "### Oss"
   ]
  },
  {
   "cell_type": "code",
   "execution_count": 21,
   "metadata": {},
   "outputs": [
    {
     "data": {
      "text/html": [
       "<div>\n",
       "<style scoped>\n",
       "    .dataframe tbody tr th:only-of-type {\n",
       "        vertical-align: middle;\n",
       "    }\n",
       "\n",
       "    .dataframe tbody tr th {\n",
       "        vertical-align: top;\n",
       "    }\n",
       "\n",
       "    .dataframe thead th {\n",
       "        text-align: right;\n",
       "    }\n",
       "</style>\n",
       "<table border=\"1\" class=\"dataframe\">\n",
       "  <thead>\n",
       "    <tr style=\"text-align: right;\">\n",
       "      <th></th>\n",
       "      <th>Postcode</th>\n",
       "      <th>gemeente</th>\n",
       "      <th>id_unit</th>\n",
       "      <th>area_ratio</th>\n",
       "      <th>geometry</th>\n",
       "      <th>component</th>\n",
       "    </tr>\n",
       "  </thead>\n",
       "  <tbody>\n",
       "    <tr>\n",
       "      <th>2740</th>\n",
       "      <td>5386LE</td>\n",
       "      <td>Oss</td>\n",
       "      <td>5386LE1</td>\n",
       "      <td>0.000000</td>\n",
       "      <td>POLYGON ((162457.224 416231.795, 162479.074 41...</td>\n",
       "      <td>1</td>\n",
       "    </tr>\n",
       "    <tr>\n",
       "      <th>3215</th>\n",
       "      <td>5374RA</td>\n",
       "      <td>Oss</td>\n",
       "      <td>5374RA1</td>\n",
       "      <td>0.263695</td>\n",
       "      <td>POLYGON ((168712.247 416074.095, 168713.071 41...</td>\n",
       "      <td>2</td>\n",
       "    </tr>\n",
       "  </tbody>\n",
       "</table>\n",
       "</div>"
      ],
      "text/plain": [
       "     Postcode gemeente  id_unit  area_ratio  \\\n",
       "2740   5386LE      Oss  5386LE1    0.000000   \n",
       "3215   5374RA      Oss  5374RA1    0.263695   \n",
       "\n",
       "                                               geometry  component  \n",
       "2740  POLYGON ((162457.224 416231.795, 162479.074 41...          1  \n",
       "3215  POLYGON ((168712.247 416074.095, 168713.071 41...          2  "
      ]
     },
     "execution_count": 21,
     "metadata": {},
     "output_type": "execute_result"
    }
   ],
   "source": [
    "city = 'Oss'\n",
    "\n",
    "zones =  gpd.read_file(dir_zones + 'PC_'+ city + '.gpkg')\n",
    "#zones = zones[['Postcode','id_unit','area_ratio','geometry']]\n",
    "adjacency_matrix = sparse.load_npz(dir_adjacency + city + '_adjacency_matrix.npz')\n",
    "\n",
    "N_component, labels = sparse.csgraph.connected_components(adjacency_matrix)\n",
    "adjacency_matrix = adjacency_matrix.toarray()\n",
    "\n",
    "zones['component'] = labels\n",
    "zones.loc[zones['component'] != 0]"
   ]
  },
  {
   "cell_type": "code",
   "execution_count": 22,
   "metadata": {},
   "outputs": [
    {
     "name": "stderr",
     "output_type": "stream",
     "text": [
      "/home/spierenburg/Documents/PhD/Study_1/code/study_1_venv/lib/python3.9/site-packages/geopandas/io/file.py:362: FutureWarning: pandas.Int64Index is deprecated and will be removed from pandas in a future version. Use pandas.Index with the appropriate dtype instead.\n",
      "  pd.Int64Index,\n"
     ]
    }
   ],
   "source": [
    "adjacency_matrix = np.delete(adjacency_matrix, (3215), axis=0)\n",
    "adjacency_matrix = np.delete(adjacency_matrix, (3215), axis=1)\n",
    "adjacency_matrix = np.delete(adjacency_matrix, (2740), axis=0)\n",
    "adjacency_matrix = np.delete(adjacency_matrix, (2740), axis=1)\n",
    "\n",
    "zones = zones.loc[zones['component'] == 0].reset_index(drop = True)\n",
    "zones = zones.drop(columns ='component')\n",
    "zones.to_file(dir_zones_edited + 'PC_'  + city + '.gpkg')\n",
    "\n",
    "adjacency_matrix = sparse.coo_matrix(adjacency_matrix)\n",
    "\n",
    "sparse.save_npz(dir_adjacency_edited + city + '_adjacency_matrix.npz', adjacency_matrix)"
   ]
  },
  {
   "cell_type": "markdown",
   "metadata": {},
   "source": [
    "### Rotterdam"
   ]
  },
  {
   "cell_type": "code",
   "execution_count": 23,
   "metadata": {},
   "outputs": [
    {
     "data": {
      "text/html": [
       "<div>\n",
       "<style scoped>\n",
       "    .dataframe tbody tr th:only-of-type {\n",
       "        vertical-align: middle;\n",
       "    }\n",
       "\n",
       "    .dataframe tbody tr th {\n",
       "        vertical-align: top;\n",
       "    }\n",
       "\n",
       "    .dataframe thead th {\n",
       "        text-align: right;\n",
       "    }\n",
       "</style>\n",
       "<table border=\"1\" class=\"dataframe\">\n",
       "  <thead>\n",
       "    <tr style=\"text-align: right;\">\n",
       "      <th></th>\n",
       "      <th>Postcode</th>\n",
       "      <th>gemeente</th>\n",
       "      <th>id_unit</th>\n",
       "      <th>area_ratio</th>\n",
       "      <th>geometry</th>\n",
       "      <th>component</th>\n",
       "    </tr>\n",
       "  </thead>\n",
       "  <tbody>\n",
       "    <tr>\n",
       "      <th>13770</th>\n",
       "      <td>3198LD</td>\n",
       "      <td>Rotterdam</td>\n",
       "      <td>3198LD1</td>\n",
       "      <td>1.0</td>\n",
       "      <td>POLYGON ((66624.824 438500.664, 66623.970 4383...</td>\n",
       "      <td>1</td>\n",
       "    </tr>\n",
       "  </tbody>\n",
       "</table>\n",
       "</div>"
      ],
      "text/plain": [
       "      Postcode   gemeente  id_unit  area_ratio  \\\n",
       "13770   3198LD  Rotterdam  3198LD1         1.0   \n",
       "\n",
       "                                                geometry  component  \n",
       "13770  POLYGON ((66624.824 438500.664, 66623.970 4383...          1  "
      ]
     },
     "execution_count": 23,
     "metadata": {},
     "output_type": "execute_result"
    }
   ],
   "source": [
    "city = 'Rotterdam'\n",
    "\n",
    "zones =  gpd.read_file(dir_zones + 'PC_'+ city + '.gpkg')\n",
    "#zones = zones[['Postcode','id_unit','area_ratio','geometry']]\n",
    "adjacency_matrix = sparse.load_npz(dir_adjacency + city + '_adjacency_matrix.npz')\n",
    "\n",
    "N_component, labels = sparse.csgraph.connected_components(adjacency_matrix)\n",
    "adjacency_matrix = adjacency_matrix.toarray()\n",
    "\n",
    "zones['component'] = labels\n",
    "zones.loc[zones['component'] != 0]"
   ]
  },
  {
   "cell_type": "code",
   "execution_count": 24,
   "metadata": {},
   "outputs": [
    {
     "name": "stderr",
     "output_type": "stream",
     "text": [
      "/home/spierenburg/Documents/PhD/Study_1/code/study_1_venv/lib/python3.9/site-packages/geopandas/io/file.py:362: FutureWarning: pandas.Int64Index is deprecated and will be removed from pandas in a future version. Use pandas.Index with the appropriate dtype instead.\n",
      "  pd.Int64Index,\n"
     ]
    }
   ],
   "source": [
    "adjacency_matrix = np.delete(adjacency_matrix, (13770), axis=0)\n",
    "adjacency_matrix = np.delete(adjacency_matrix, (13770), axis=1)\n",
    "\n",
    "zones = zones.loc[zones['component'] == 0].reset_index(drop = True)\n",
    "zones = zones.drop(columns ='component')\n",
    "zones.to_file(dir_zones_edited + 'PC_'  + city + '.gpkg')\n",
    "\n",
    "adjacency_matrix = sparse.coo_matrix(adjacency_matrix)\n",
    "\n",
    "sparse.save_npz(dir_adjacency_edited + city + '_adjacency_matrix.npz', adjacency_matrix)"
   ]
  },
  {
   "cell_type": "markdown",
   "metadata": {},
   "source": [
    "### Amsterdam"
   ]
  },
  {
   "cell_type": "code",
   "execution_count": 25,
   "metadata": {},
   "outputs": [
    {
     "name": "stderr",
     "output_type": "stream",
     "text": [
      "/home/spierenburg/Documents/PhD/Study_1/code/study_1_venv/lib/python3.9/site-packages/geopandas/io/file.py:362: FutureWarning: pandas.Int64Index is deprecated and will be removed from pandas in a future version. Use pandas.Index with the appropriate dtype instead.\n",
      "  pd.Int64Index,\n",
      "/home/spierenburg/Documents/PhD/Study_1/code/study_1_venv/lib/python3.9/site-packages/geopandas/io/file.py:362: FutureWarning: pandas.Int64Index is deprecated and will be removed from pandas in a future version. Use pandas.Index with the appropriate dtype instead.\n",
      "  pd.Int64Index,\n"
     ]
    }
   ],
   "source": [
    "city = 'Amsterdam'\n",
    "\n",
    "zones =  gpd.read_file(dir_zones + 'PC_'+ city + '.gpkg')\n",
    "#zones = zones[['Postcode','id_unit','area_ratio','geometry']]\n",
    "adjacency_matrix = sparse.load_npz(dir_adjacency + city + '_adjacency_matrix.npz')\n",
    "\n",
    "N_component, labels = sparse.csgraph.connected_components(adjacency_matrix)\n",
    "adjacency_matrix = adjacency_matrix.toarray()\n",
    "\n",
    "zones['component'] = labels\n",
    "# Remove 6891ZZ0 6961LJ0.\n",
    "zones.loc[zones['component'] == 1]\n",
    "\n",
    "zones_1 = zones.loc[zones['component'] == 0]\n",
    "adjacency_matrix_1 = np.delete(adjacency_matrix, \n",
    "                             (zones.loc[zones['component'] ==1].index.values), \n",
    "                             axis=0)\n",
    "adjacency_matrix_1 = np.delete(adjacency_matrix_1, \n",
    "                             (zones.loc[zones['component'] ==1].index.values), \n",
    "                             axis=1)\n",
    "\n",
    "zones_2 = zones.loc[zones['component'] == 1]\n",
    "adjacency_matrix_2 = np.delete(adjacency_matrix, \n",
    "                             (zones.loc[zones['component'] == 0].index.values), \n",
    "                             axis=0)\n",
    "adjacency_matrix_2 = np.delete(adjacency_matrix_2, \n",
    "                             (zones.loc[zones['component'] == 0].index.values), \n",
    "                             axis=1)\n",
    "\n",
    "adjacency_matrix_1 = sparse.coo_matrix(adjacency_matrix_1)\n",
    "sparse.save_npz(dir_adjacency_edited + city + '_adjacency_matrix_1.npz', adjacency_matrix_1)\n",
    "zones_1 = zones_1.drop(columns ='component')\n",
    "zones_1.to_file(dir_zones_edited + 'PC_'  + city + '_1.gpkg')\n",
    "adjacency_matrix_2 = sparse.coo_matrix(adjacency_matrix_2)\n",
    "sparse.save_npz(dir_adjacency_edited + city + '_adjacency_matrix_2.npz', adjacency_matrix_2)\n",
    "zones_2 = zones_2.drop(columns ='component')\n",
    "zones_2.to_file(dir_zones_edited + 'PC_'  + city + '_2.gpkg')"
   ]
  }
 ],
 "metadata": {
  "kernelspec": {
   "display_name": "study_1_venv",
   "language": "python",
   "name": "study_1_venv"
  },
  "language_info": {
   "codemirror_mode": {
    "name": "ipython",
    "version": 3
   },
   "file_extension": ".py",
   "mimetype": "text/x-python",
   "name": "python",
   "nbconvert_exporter": "python",
   "pygments_lexer": "ipython3",
   "version": "3.9.7"
  },
  "vscode": {
   "interpreter": {
    "hash": "11eb3bdda620b386ac311b3d07c097973ef5c99cb9184bf1a093190cd8996fdc"
   }
  }
 },
 "nbformat": 4,
 "nbformat_minor": 4
}
