{
 "cells": [
  {
   "cell_type": "code",
   "execution_count": 29,
   "metadata": {},
   "outputs": [],
   "source": [
    "import geopandas as gpd\n",
    "import pandas as pd\n",
    "from scipy.stats import norm \n",
    "import numpy as np\n",
    "from shapely.geometry import Polygon\n",
    "import string\n",
    "from sklearn.cluster import AgglomerativeClustering\n",
    "from sklearn.metrics import fowlkes_mallows_score, rand_score, mutual_info_score\n",
    "import matplotlib.pyplot as plt\n",
    "import os"
   ]
  },
  {
   "cell_type": "code",
   "execution_count": 30,
   "metadata": {},
   "outputs": [],
   "source": [
    "zones = gpd.read_file(\"../data/processed_data/zones_delineation/PC_Leiden.gpkg\")"
   ]
  },
  {
   "cell_type": "code",
   "execution_count": 31,
   "metadata": {},
   "outputs": [
    {
     "data": {
      "text/plain": [
       "2043.7616624030316"
      ]
     },
     "execution_count": 31,
     "metadata": {},
     "output_type": "execute_result"
    }
   ],
   "source": [
    "zones.area.median()"
   ]
  },
  {
   "cell_type": "code",
   "execution_count": 32,
   "metadata": {},
   "outputs": [],
   "source": [
    "if not os.path.isfile('../data/toy_example/example_review.csv'):\n",
    "    households_data = pd.read_csv('../data/toy_example/toy_example_base.csv', names= list(range(0,27)))\n",
    "    households_data = households_data.applymap(lambda x: x + norm.rvs(loc = 0, scale = 0.5))\n",
    "    households_data = households_data.applymap(lambda x: 1 if x>0.5 else 0)\n",
    "else: \n",
    "    households_data = pd.read_csv('../data/toy_example/example_review.csv')\n",
    "    households_data.columns = households_data.columns.astype(int)"
   ]
  },
  {
   "cell_type": "code",
   "execution_count": 33,
   "metadata": {},
   "outputs": [],
   "source": [
    "# Making an alphabetical index for the city.\n",
    "list_char=list(string.ascii_uppercase)\n",
    "alphabet=list_char+[x+y for x in list_char for y in list_char]\n",
    "name_columns_1 = alphabet[0:13]\n",
    "# name_columns_2 = [sub + '_2' for sub in alphabet[0:13]]"
   ]
  },
  {
   "cell_type": "code",
   "execution_count": 34,
   "metadata": {},
   "outputs": [],
   "source": [
    "city_1 = pd.DataFrame(data = [[np.mean(households_data.loc[2*i:2*i+1,2*j:2*j+1].mean().mean()) for i in range(13)] for j in range(13)],\n",
    "                      columns = name_columns_1,\n",
    "                      index = name_columns_1)\n",
    "                      \n",
    "city_2 = pd.DataFrame(data = [[np.mean(households_data.loc[2*i+1:2*i+2,2*j+1:2*j+2].mean().mean()) for i in range(13)] for j in range(13)],\n",
    "                      columns = name_columns_1,\n",
    "                      index = name_columns_1)\n",
    "                      #columns = name_columns_2,\n",
    "                      #index = name_columns_2)"
   ]
  },
  {
   "cell_type": "code",
   "execution_count": 35,
   "metadata": {},
   "outputs": [],
   "source": [
    "def compute_res_mix(city_mix):\n",
    "    res_mix = city_mix.T.stack().reset_index()\n",
    "    res_mix = res_mix.rename(columns = {0:'res_mix'})\n",
    "    res_mix['polygon_id'] = res_mix['level_0'] + '_' + res_mix['level_1']\n",
    "    res_mix = res_mix.drop(columns = ['level_0','level_1'])\n",
    "    return res_mix"
   ]
  },
  {
   "cell_type": "code",
   "execution_count": 36,
   "metadata": {},
   "outputs": [],
   "source": [
    "# Generation of a grid.\n",
    "def create_grid_geometry(city_mix, size_cell, name_columns):\n",
    "\n",
    "    N_rows = len(city_mix)\n",
    "    polygons = []\n",
    "    polygon_id = []\n",
    "\n",
    "    for x in range(N_rows):\n",
    "        for y in range(N_rows):\n",
    "            polygons.append(Polygon([(size_cell*x,size_cell*y), \n",
    "                                    (size_cell*(x+1), size_cell*y), \n",
    "                                    (size_cell*(x+1), size_cell*(y+1)),\n",
    "                                    (size_cell*x, size_cell*(y+1))]))\n",
    "            polygon_id.append(name_columns[x] + '_' + name_columns[y])\n",
    "\n",
    "    grid = gpd.GeoDataFrame({'polygon_id':polygon_id,'geometry':polygons})\n",
    "    \n",
    "    centroids = grid.copy()\n",
    "    centroids['geometry'] = grid.centroid\n",
    "\n",
    "    return grid, centroids"
   ]
  },
  {
   "cell_type": "code",
   "execution_count": 37,
   "metadata": {},
   "outputs": [],
   "source": [
    "def compute_shortest_paths(res_mix,size_cell, grid):\n",
    "    # Computing the shortest paths from cell to cell.\n",
    "    shortest_paths = pd.DataFrame({'from_polygon':[],'to_polygon':[],'distance':[]})\n",
    "\n",
    "    for i in res_mix['polygon_id']:\n",
    "        shortest_paths_i = pd.DataFrame({'from_polygon':[i]*len(res_mix),\n",
    "                                         'to_polygon':res_mix['polygon_id'],\n",
    "                                         'distance':grid.distance(grid.loc[res_mix['polygon_id'] == i,'geometry'].values[0])})\n",
    "        shortest_paths = pd.concat([shortest_paths,shortest_paths_i], ignore_index=True)\n",
    "    \n",
    "    shortest_paths['weight'] = 1/(0.3*size_cell*0.707)**2\n",
    "    shortest_paths['weight'] = shortest_paths['weight'].mask(shortest_paths['distance'] > 0,\n",
    "                                                             1/(0.3*shortest_paths['distance'])**2)\n",
    "\n",
    "    return shortest_paths"
   ]
  },
  {
   "cell_type": "code",
   "execution_count": 38,
   "metadata": {},
   "outputs": [],
   "source": [
    "def compute_exposure(res_mix, grid, shortest_paths):\n",
    "\n",
    "    exposure = res_mix.merge(shortest_paths[['from_polygon','to_polygon','weight']], \n",
    "                             left_on = 'polygon_id',\n",
    "                             right_on = 'from_polygon')\n",
    "    exposure = exposure.drop(columns = ['from_polygon','polygon_id'])\n",
    "    exposure = exposure.rename(columns = {'to_polygon':'polygon_id'})\n",
    "    exposure['exposure'] = exposure['res_mix']*exposure['weight']\n",
    "    exposure = exposure[['polygon_id','weight','exposure']].groupby(by = 'polygon_id').sum().reset_index()\n",
    "    exposure['exposure'] = exposure['exposure'] / exposure['weight']\n",
    "\n",
    "    exposure = exposure.merge(res_mix, on ='polygon_id')\n",
    "\n",
    "    return exposure"
   ]
  },
  {
   "cell_type": "code",
   "execution_count": 39,
   "metadata": {},
   "outputs": [],
   "source": [
    "res_mix_1 = compute_res_mix(city_1)\n",
    "grid, centroids = create_grid_geometry(city_1, 3, name_columns_1)\n",
    "shortest_paths = compute_shortest_paths(res_mix_1, 3,centroids)\n",
    "exposure_1 = compute_exposure(res_mix_1, centroids, shortest_paths)\n",
    "res_mix_2 = compute_res_mix(city_2)\n",
    "exposure_2 = compute_exposure(res_mix_2, centroids, shortest_paths)"
   ]
  },
  {
   "cell_type": "code",
   "execution_count": 40,
   "metadata": {},
   "outputs": [],
   "source": [
    "exposure_1 = exposure_1.add_suffix('_1').rename(columns = {'polygon_id_1':'polygon_id'})\n",
    "exposure_2 = exposure_2.add_suffix('_2').rename(columns = {'polygon_id_2':'polygon_id'})"
   ]
  },
  {
   "cell_type": "code",
   "execution_count": 41,
   "metadata": {},
   "outputs": [],
   "source": [
    "grid_1 = grid.merge(exposure_1[['polygon_id','exposure_1','res_mix_1']], on = 'polygon_id')\n",
    "grid_2 = grid.merge(exposure_2[['polygon_id','exposure_2','res_mix_2']], on = 'polygon_id')\n",
    "grid_2['geometry'] = grid_2['geometry'].translate(1.5,1.5)"
   ]
  },
  {
   "cell_type": "code",
   "execution_count": 42,
   "metadata": {},
   "outputs": [],
   "source": [
    "name_columns_hh_data = alphabet[0:27]\n",
    "city_benchmark = pd.DataFrame(data = households_data,\n",
    "                              columns = name_columns_hh_data,\n",
    "                              index = name_columns_hh_data)"
   ]
  },
  {
   "cell_type": "code",
   "execution_count": 43,
   "metadata": {},
   "outputs": [],
   "source": [
    "households_data.index = households_data.index.astype(str)\n",
    "households_data.columns = households_data.columns.astype(str)\n",
    "res_mix_hh_data = compute_res_mix(households_data)\n",
    "grid_hh_data, centroids_hh_data = create_grid_geometry(households_data, 1.5,list(households_data.index))\n",
    "shortest_paths_hh_data = compute_shortest_paths(res_mix_hh_data,1.5 ,centroids_hh_data)\n",
    "exposure_hh_data = compute_exposure(res_mix_hh_data, centroids_hh_data, shortest_paths_hh_data)"
   ]
  },
  {
   "cell_type": "code",
   "execution_count": 44,
   "metadata": {},
   "outputs": [],
   "source": [
    "grid_hh_data = grid_hh_data.merge(exposure_hh_data[['polygon_id','exposure','res_mix']], on = 'polygon_id')"
   ]
  },
  {
   "cell_type": "code",
   "execution_count": 45,
   "metadata": {},
   "outputs": [
    {
     "data": {
      "image/png": "[encoded data removed]",
      "text/plain": [
       "<Figure size 1152x576 with 6 Axes>"
      ]
     },
     "metadata": {
      "needs_background": "light"
     },
     "output_type": "display_data"
    }
   ],
   "source": [
    "fig, ax = plt.subplots(2,3,figsize=(16, 8))\n",
    "fig.set_tight_layout(True)\n",
    "\n",
    "# Grid 1\n",
    "grid_1.plot(ax=ax[0,0], column = 'res_mix_1', vmin = 0, vmax = 1)\n",
    "grid_1.plot(ax=ax[1,0], column = 'exposure_1', vmin = 0, vmax = 1)\n",
    "\n",
    "# Grid 2\n",
    "grid_2.plot(ax=ax[0,1], column = 'res_mix_2', vmin = 0, vmax = 1)\n",
    "grid_2.plot(ax=ax[1,1], column = 'exposure_2', vmin = 0, vmax = 1)\n",
    "\n",
    "# Fine grid \n",
    "grid_hh_data.plot(ax=ax[0,2], column = 'res_mix', vmin = 0, vmax = 1)\n",
    "grid_hh_data.plot(ax=ax[1,2], column = 'exposure', vmin = 0, vmax = 1)\n",
    "\n",
    "# Set titles\n",
    "ax[0,0].set_title('Grid 1: residential mix', size = 15)\n",
    "ax[0,1].set_title('Grid 2: residential mix', size = 15)\n",
    "ax[0,2].set_title('Household data', size = 15)\n",
    "ax[1,0].set_title('Grid 1: exposure', size = 15)\n",
    "ax[1,1].set_title('Grid 2: exposure', size = 15)\n",
    "ax[1,2].set_title('Household data: exposure', size = 15)\n",
    "plt.show()"
   ]
  },
  {
   "cell_type": "code",
   "execution_count": 46,
   "metadata": {},
   "outputs": [],
   "source": [
    "def compute_adjacency_matrix(shortest_paths, grid, size_cell):\n",
    "\n",
    "    adjacent_units = shortest_paths[['from_polygon','to_polygon','distance']]\n",
    "    adjacent_units['adj'] = 0\n",
    "    adjacent_units['adj'] = adjacent_units['adj'].mask((adjacent_units['distance'] > size_cell - 0.000001) & \n",
    "                                                       (adjacent_units['distance'] < size_cell + 0.000001), 1)\n",
    "    adjacency_matrix = adjacent_units[['from_polygon','to_polygon','adj']].pivot_table(index = 'from_polygon',\n",
    "                                                                                       columns = 'to_polygon',\n",
    "                                                                                       values = 'adj')\n",
    "    adjacency_matrix = adjacency_matrix.reindex(index = grid['polygon_id'],\n",
    "                                                columns = grid['polygon_id'])\n",
    "    return adjacency_matrix"
   ]
  },
  {
   "cell_type": "code",
   "execution_count": 47,
   "metadata": {},
   "outputs": [],
   "source": [
    "adjacency_matrix_1 = compute_adjacency_matrix(shortest_paths, grid_1, 3)\n",
    "adjacency_matrix_2 = compute_adjacency_matrix(shortest_paths, grid_2, 3)\n",
    "adjacency_matrix_hh_data = compute_adjacency_matrix(shortest_paths_hh_data, grid_hh_data, 1.5)"
   ]
  },
  {
   "cell_type": "code",
   "execution_count": 48,
   "metadata": {},
   "outputs": [],
   "source": [
    "def regionalization(grid, cluster_variable, adjacency_matrix, n_regions):\n",
    "\n",
    "    X = np.array([grid.loc[:,cluster_variable]]).T\n",
    "    clus_hh_data = AgglomerativeClustering(n_clusters = n_regions,\n",
    "                                           connectivity = adjacency_matrix,\n",
    "                                           linkage = 'ward').fit(X)\n",
    "\n",
    "    grid['region_' + cluster_variable] = clus_hh_data.labels_\n",
    "    \n",
    "    return grid"
   ]
  },
  {
   "cell_type": "code",
   "execution_count": 49,
   "metadata": {},
   "outputs": [],
   "source": [
    "def regionalization_var(grid, cluster_variable, adjacency_matrix, threshold):\n",
    "\n",
    "    X = np.array([grid.loc[:,cluster_variable]]).T\n",
    "    clus_hh_data = AgglomerativeClustering(n_clusters = None,\n",
    "                                           distance_threshold=threshold,\n",
    "                                           connectivity = adjacency_matrix,\n",
    "                                           linkage = 'ward').fit(X)\n",
    "\n",
    "    grid['region_' + cluster_variable] = clus_hh_data.labels_\n",
    "\n",
    "    grid['count'] = 1    \n",
    "    regions = grid[[cluster_variable,'region_' + cluster_variable,\n",
    "                    'count','geometry']].dissolve(by = 'region_' + cluster_variable, aggfunc = 'sum')\n",
    "\n",
    "    regions[cluster_variable] = regions[cluster_variable] / regions['count']\n",
    "    regions = regions.drop(columns = 'count').reset_index()\n",
    "\n",
    "    city_average = grid.loc[:,cluster_variable].mean()\n",
    "    # regions['seg_' + cluster_variable] = 0\n",
    "    # regions['seg_' + cluster_variable] = regions['seg_' + cluster_variable].mask(regions[cluster_variable] >= 1.1 * city_average,1)\n",
    "    # regions['seg_' + cluster_variable] = regions['seg_' + cluster_variable].mask(regions[cluster_variable] <= 0.9 * city_average,-1)\n",
    "    regions['seg_' + cluster_variable] = -1\n",
    "    regions['seg_' + cluster_variable] = regions['seg_' + cluster_variable].mask(regions[cluster_variable] >= city_average,1)\n",
    "\n",
    "    grid = grid.sjoin(regions[['seg_' + cluster_variable,'geometry']],predicate = 'within').drop(columns = 'index_right')\n",
    "\n",
    "    return grid"
   ]
  },
  {
   "cell_type": "code",
   "execution_count": 50,
   "metadata": {},
   "outputs": [],
   "source": [
    "TSS_res_mix_1 = grid_1.res_mix_1.var()*len(grid_1)\n",
    "TSS_res_mix_2 = grid_2.res_mix_2.var()*len(grid_2)\n",
    "TSS_exposure_1 = grid_1.exposure_1.var()*len(grid_1)\n",
    "TSS_exposure_2 = grid_2.exposure_2.var()*len(grid_2)\n",
    "TSS_hh_data_exposure = grid_hh_data.exposure.var()*len(grid_hh_data)\n",
    "TSS_hh_data_res_mix = grid_hh_data.res_mix.var()*len(grid_hh_data)"
   ]
  },
  {
   "cell_type": "code",
   "execution_count": 51,
   "metadata": {},
   "outputs": [],
   "source": [
    "coef_treshold = 0.1\n",
    "grid_1 = regionalization_var(grid_1, 'res_mix_1', adjacency_matrix_1,coef_treshold * np.sqrt(TSS_res_mix_1))\n",
    "grid_2 = regionalization_var(grid_2, 'res_mix_2', adjacency_matrix_2,coef_treshold * np.sqrt(TSS_res_mix_2))\n",
    "grid_1 = regionalization_var(grid_1, 'exposure_1', adjacency_matrix_1,coef_treshold * np.sqrt(TSS_exposure_1))\n",
    "grid_2 = regionalization_var(grid_2, 'exposure_2', adjacency_matrix_2,coef_treshold * np.sqrt(TSS_exposure_2))\n",
    "grid_hh_data = regionalization_var(grid_hh_data, 'exposure', adjacency_matrix_hh_data,coef_treshold * np.sqrt(TSS_hh_data_exposure))\n",
    "grid_hh_data = regionalization_var(grid_hh_data, 'res_mix', adjacency_matrix_hh_data,coef_treshold * np.sqrt(TSS_hh_data_res_mix))"
   ]
  },
  {
   "cell_type": "code",
   "execution_count": 52,
   "metadata": {},
   "outputs": [],
   "source": [
    "# N_regions = 3\n",
    "# grid_1 = regionalization(grid_1, 'res_mix_1', adjacency_matrix_1,N_regions)\n",
    "# grid_2 = regionalization(grid_2, 'res_mix_2', adjacency_matrix_2,N_regions)\n",
    "# grid_1 = regionalization(grid_1, 'exposure_1', adjacency_matrix_1,N_regions)\n",
    "# grid_2 = regionalization(grid_2, 'exposure_2', adjacency_matrix_2,N_regions)\n",
    "# grid_hh_data = regionalization(grid_hh_data, 'exposure', adjacency_matrix_hh_data,N_regions)\n",
    "# grid_hh_data = regionalization(grid_hh_data, 'res_mix', adjacency_matrix_hh_data,N_regions)"
   ]
  },
  {
   "cell_type": "code",
   "execution_count": 53,
   "metadata": {},
   "outputs": [],
   "source": [
    "result_1 = grid_hh_data.sjoin(grid_1[['res_mix_1','exposure_1','seg_res_mix_1','seg_exposure_1','geometry']], \n",
    "                              predicate = 'within').drop(columns = 'index_right')\n",
    "result_2 = grid_hh_data.sjoin(grid_2[['res_mix_2','exposure_2','seg_res_mix_2','seg_exposure_2','geometry']], \n",
    "                              predicate = 'within').drop(columns = 'index_right')\n",
    "result_comp = result_1.sjoin(grid_2[['res_mix_2','exposure_2','seg_res_mix_2','seg_exposure_2','geometry']], \n",
    "                             predicate = 'within').drop(columns = 'index_right')"
   ]
  },
  {
   "cell_type": "code",
   "execution_count": 54,
   "metadata": {},
   "outputs": [],
   "source": [
    "region_res_mix_1 = result_1.dissolve(by = 'seg_res_mix_1').reset_index()\n",
    "region_exposure_1 = result_1.dissolve(by = 'seg_exposure_1').reset_index()\n",
    "\n",
    "region_exposure_2 = result_2.dissolve(by = 'seg_exposure_2').reset_index()\n",
    "region_res_mix_2 = result_2.dissolve(by = 'seg_res_mix_2').reset_index()\n",
    "\n",
    "region_benchmark_exposure = grid_hh_data.dissolve(by = 'seg_exposure').reset_index()\n",
    "region_benchmark_res_mix = grid_hh_data.dissolve(by = 'seg_res_mix').reset_index()\n",
    "# Benchmark in grid 1.\n",
    "region_benchmark_res_mix_1 = result_1.dissolve(by = 'seg_res_mix').reset_index()\n",
    "region_benchmark_exposure_1 = result_1.dissolve(by = 'seg_exposure').reset_index()\n",
    "# Benchmark, in grid 2.\n",
    "region_benchmark_res_mix_2 = result_2.dissolve(by = 'seg_res_mix').reset_index()\n",
    "region_benchmark_exposure_2 = result_2.dissolve(by = 'seg_exposure').reset_index()\n",
    "# Benchmark, in comp\n",
    "region_exposure_comp_1 = result_comp.dissolve(by = 'seg_exposure_1').reset_index()\n",
    "region_res_mix_comp_1 = result_comp.dissolve(by = 'seg_res_mix_1').reset_index()\n",
    "region_exposure_comp_2 = result_comp.dissolve(by = 'seg_exposure_2').reset_index()\n",
    "region_res_mix_comp_2 = result_comp.dissolve(by = 'seg_res_mix_2').reset_index()"
   ]
  },
  {
   "cell_type": "code",
   "execution_count": 66,
   "metadata": {},
   "outputs": [
    {
     "data": {
      "image/png": "[encoded data removed]",
      "text/plain": [
       "<Figure size 1152x576 with 6 Axes>"
      ]
     },
     "metadata": {
      "needs_background": "light"
     },
     "output_type": "display_data"
    }
   ],
   "source": [
    "fig, ax = plt.subplots(2,3,figsize=(16, 8))\n",
    "fig.set_tight_layout(True)\n",
    "\n",
    "# Fine grid \n",
    "grid_hh_data.plot(ax=ax[0,0], cmap = 'Blues', column = 'res_mix', vmin = 0, vmax = 1)\n",
    "region_benchmark_res_mix.plot(ax=ax[0,0], color  = 'none', edgecolor='chocolate', linewidth = 3)\n",
    "grid_hh_data.plot(ax=ax[1,0], cmap = 'Blues', column = 'exposure', vmin = 0, vmax = 1)\n",
    "region_benchmark_exposure.plot(ax=ax[1,0], color  = 'none', edgecolor='chocolate', linewidth = 3)\n",
    "\n",
    "\n",
    "# Grid 1\n",
    "result_1.plot(ax=ax[0,1], cmap = 'Blues',column = 'res_mix_1', vmin = 0, vmax = 1)\n",
    "region_res_mix_1.plot(ax=ax[0,1], color  = 'none', edgecolor='chocolate', linewidth = 3)\n",
    "result_1.plot(ax=ax[1,1], cmap = 'Blues', column = 'exposure_1', vmin = 0, vmax = 1)\n",
    "region_exposure_1.plot(ax=ax[1,1], color  = 'none', edgecolor='chocolate', linewidth = 3)\n",
    "\n",
    "\n",
    "# Grid 2\n",
    "result_2.plot(ax=ax[0,2], cmap = 'Blues', column = 'res_mix_2', vmin = 0, vmax = 1)\n",
    "region_res_mix_2.plot(ax=ax[0,2], color  = 'none', edgecolor='chocolate', linewidth = 3)\n",
    "result_2.plot(ax=ax[1,2], cmap = 'Blues', column = 'exposure_2', vmin = 0, vmax = 1)\n",
    "region_exposure_2.plot(ax=ax[1,2], color  = 'none', edgecolor='chocolate', linewidth = 3)\n",
    "\n",
    "# Set titles\n",
    "ax[0,1].set_title('Grid 1: residential mix', size = 15)\n",
    "ax[0,2].set_title('Grid 2: residential mix', size = 15)\n",
    "ax[0,0].set_title('Household data', size = 15)\n",
    "ax[1,1].set_title('Grid 1: exposure', size = 15)\n",
    "ax[1,2].set_title('Grid 2: exposure', size = 15)\n",
    "ax[1,0].set_title('Household data: exposure', size = 15)\n",
    "plt.show()"
   ]
  },
  {
   "cell_type": "code",
   "execution_count": 76,
   "metadata": {},
   "outputs": [
    {
     "data": {
      "text/html": [
       "<div>\n",
       "<style scoped>\n",
       "    .dataframe tbody tr th:only-of-type {\n",
       "        vertical-align: middle;\n",
       "    }\n",
       "\n",
       "    .dataframe tbody tr th {\n",
       "        vertical-align: top;\n",
       "    }\n",
       "\n",
       "    .dataframe thead th {\n",
       "        text-align: right;\n",
       "    }\n",
       "</style>\n",
       "<table border=\"1\" class=\"dataframe\">\n",
       "  <thead>\n",
       "    <tr style=\"text-align: right;\">\n",
       "      <th></th>\n",
       "      <th>geometry</th>\n",
       "      <th>polygon_id</th>\n",
       "      <th>exposure</th>\n",
       "      <th>res_mix</th>\n",
       "      <th>region_exposure</th>\n",
       "      <th>count</th>\n",
       "      <th>seg_exposure</th>\n",
       "      <th>region_res_mix</th>\n",
       "      <th>seg_res_mix</th>\n",
       "      <th>res_mix_1</th>\n",
       "      <th>exposure_1</th>\n",
       "      <th>seg_exposure_1</th>\n",
       "    </tr>\n",
       "    <tr>\n",
       "      <th>seg_res_mix_1</th>\n",
       "      <th></th>\n",
       "      <th></th>\n",
       "      <th></th>\n",
       "      <th></th>\n",
       "      <th></th>\n",
       "      <th></th>\n",
       "      <th></th>\n",
       "      <th></th>\n",
       "      <th></th>\n",
       "      <th></th>\n",
       "      <th></th>\n",
       "      <th></th>\n",
       "    </tr>\n",
       "  </thead>\n",
       "  <tbody>\n",
       "    <tr>\n",
       "      <th>-1</th>\n",
       "      <td>MULTIPOLYGON (((3.00000 6.00000, 1.50000 6.000...</td>\n",
       "      <td>0_0</td>\n",
       "      <td>0.129922</td>\n",
       "      <td>0</td>\n",
       "      <td>6</td>\n",
       "      <td>1</td>\n",
       "      <td>-1</td>\n",
       "      <td>4</td>\n",
       "      <td>-1</td>\n",
       "      <td>0.0</td>\n",
       "      <td>0.218964</td>\n",
       "      <td>-1</td>\n",
       "    </tr>\n",
       "    <tr>\n",
       "      <th>1</th>\n",
       "      <td>MULTIPOLYGON (((1.50000 3.00000, 0.00000 3.000...</td>\n",
       "      <td>0_2</td>\n",
       "      <td>0.203024</td>\n",
       "      <td>0</td>\n",
       "      <td>6</td>\n",
       "      <td>1</td>\n",
       "      <td>-1</td>\n",
       "      <td>4</td>\n",
       "      <td>-1</td>\n",
       "      <td>0.5</td>\n",
       "      <td>0.252652</td>\n",
       "      <td>-1</td>\n",
       "    </tr>\n",
       "  </tbody>\n",
       "</table>\n",
       "</div>"
      ],
      "text/plain": [
       "                                                        geometry polygon_id  \\\n",
       "seg_res_mix_1                                                                 \n",
       "-1             MULTIPOLYGON (((3.00000 6.00000, 1.50000 6.000...        0_0   \n",
       " 1             MULTIPOLYGON (((1.50000 3.00000, 0.00000 3.000...        0_2   \n",
       "\n",
       "               exposure  res_mix  region_exposure  count  seg_exposure  \\\n",
       "seg_res_mix_1                                                            \n",
       "-1             0.129922        0                6      1            -1   \n",
       " 1             0.203024        0                6      1            -1   \n",
       "\n",
       "               region_res_mix  seg_res_mix  res_mix_1  exposure_1  \\\n",
       "seg_res_mix_1                                                       \n",
       "-1                          4           -1        0.0    0.218964   \n",
       " 1                          4           -1        0.5    0.252652   \n",
       "\n",
       "               seg_exposure_1  \n",
       "seg_res_mix_1                  \n",
       "-1                         -1  \n",
       " 1                         -1  "
      ]
     },
     "execution_count": 76,
     "metadata": {},
     "output_type": "execute_result"
    }
   ],
   "source": [
    "region_res_mix_1"
   ]
  },
  {
   "cell_type": "code",
   "execution_count": 74,
   "metadata": {},
   "outputs": [
    {
     "ename": "KeyError",
     "evalue": "'seg'",
     "output_type": "error",
     "traceback": [
      "\u001b[0;31m---------------------------------------------------------------------------\u001b[0m",
      "\u001b[0;31mKeyError\u001b[0m                                  Traceback (most recent call last)",
      "File \u001b[0;32m~/.pyenv/versions/3.9.7/envs/study_1_venv/lib/python3.9/site-packages/pandas/core/indexes/base.py:3621\u001b[0m, in \u001b[0;36mIndex.get_loc\u001b[0;34m(self, key, method, tolerance)\u001b[0m\n\u001b[1;32m   3620\u001b[0m \u001b[39mtry\u001b[39;00m:\n\u001b[0;32m-> 3621\u001b[0m     \u001b[39mreturn\u001b[39;00m \u001b[39mself\u001b[39;49m\u001b[39m.\u001b[39;49m_engine\u001b[39m.\u001b[39;49mget_loc(casted_key)\n\u001b[1;32m   3622\u001b[0m \u001b[39mexcept\u001b[39;00m \u001b[39mKeyError\u001b[39;00m \u001b[39mas\u001b[39;00m err:\n",
      "File \u001b[0;32m~/.pyenv/versions/3.9.7/envs/study_1_venv/lib/python3.9/site-packages/pandas/_libs/index.pyx:136\u001b[0m, in \u001b[0;36mpandas._libs.index.IndexEngine.get_loc\u001b[0;34m()\u001b[0m\n",
      "File \u001b[0;32m~/.pyenv/versions/3.9.7/envs/study_1_venv/lib/python3.9/site-packages/pandas/_libs/index.pyx:163\u001b[0m, in \u001b[0;36mpandas._libs.index.IndexEngine.get_loc\u001b[0;34m()\u001b[0m\n",
      "File \u001b[0;32mpandas/_libs/hashtable_class_helper.pxi:5198\u001b[0m, in \u001b[0;36mpandas._libs.hashtable.PyObjectHashTable.get_item\u001b[0;34m()\u001b[0m\n",
      "File \u001b[0;32mpandas/_libs/hashtable_class_helper.pxi:5206\u001b[0m, in \u001b[0;36mpandas._libs.hashtable.PyObjectHashTable.get_item\u001b[0;34m()\u001b[0m\n",
      "\u001b[0;31mKeyError\u001b[0m: 'seg'",
      "\nThe above exception was the direct cause of the following exception:\n",
      "\u001b[0;31mKeyError\u001b[0m                                  Traceback (most recent call last)",
      "\u001b[1;32m/home/lulu/Documents/study_1_clean/code_clean/testing_for_MAUP.ipynb Cell 28\u001b[0m in \u001b[0;36m<module>\u001b[0;34m\u001b[0m\n\u001b[1;32m      <a href='vscode-notebook-cell:/home/lulu/Documents/study_1_clean/code_clean/testing_for_MAUP.ipynb#X32sZmlsZQ%3D%3D?line=4'>5</a>\u001b[0m result_1\u001b[39m.\u001b[39mplot(ax\u001b[39m=\u001b[39max[\u001b[39m0\u001b[39m,\u001b[39m0\u001b[39m], cmap \u001b[39m=\u001b[39m \u001b[39m'\u001b[39m\u001b[39mBlues\u001b[39m\u001b[39m'\u001b[39m,column \u001b[39m=\u001b[39m \u001b[39m'\u001b[39m\u001b[39mres_mix\u001b[39m\u001b[39m'\u001b[39m, vmin \u001b[39m=\u001b[39m \u001b[39m0\u001b[39m, vmax \u001b[39m=\u001b[39m \u001b[39m1\u001b[39m)\n\u001b[1;32m      <a href='vscode-notebook-cell:/home/lulu/Documents/study_1_clean/code_clean/testing_for_MAUP.ipynb#X32sZmlsZQ%3D%3D?line=5'>6</a>\u001b[0m region_benchmark_res_mix_1\u001b[39m.\u001b[39mplot(ax\u001b[39m=\u001b[39max[\u001b[39m0\u001b[39m,\u001b[39m0\u001b[39m], color  \u001b[39m=\u001b[39m \u001b[39m'\u001b[39m\u001b[39mnone\u001b[39m\u001b[39m'\u001b[39m, edgecolor\u001b[39m=\u001b[39m\u001b[39m'\u001b[39m\u001b[39mblack\u001b[39m\u001b[39m'\u001b[39m, linewidth \u001b[39m=\u001b[39m \u001b[39m3\u001b[39m)\n\u001b[0;32m----> <a href='vscode-notebook-cell:/home/lulu/Documents/study_1_clean/code_clean/testing_for_MAUP.ipynb#X32sZmlsZQ%3D%3D?line=6'>7</a>\u001b[0m region_res_mix_1\u001b[39m.\u001b[39mloc[region_res_mix_1[\u001b[39m'\u001b[39;49m\u001b[39mseg\u001b[39;49m\u001b[39m'\u001b[39;49m] \u001b[39m==\u001b[39m \u001b[39m1\u001b[39m]\u001b[39m.\u001b[39mplot(ax \u001b[39m=\u001b[39m ax[\u001b[39m0\u001b[39m,\u001b[39m0\u001b[39m],\n\u001b[1;32m      <a href='vscode-notebook-cell:/home/lulu/Documents/study_1_clean/code_clean/testing_for_MAUP.ipynb#X32sZmlsZQ%3D%3D?line=7'>8</a>\u001b[0m                                                         color  \u001b[39m=\u001b[39m \u001b[39m'\u001b[39m\u001b[39mnone\u001b[39m\u001b[39m'\u001b[39m,\n\u001b[1;32m      <a href='vscode-notebook-cell:/home/lulu/Documents/study_1_clean/code_clean/testing_for_MAUP.ipynb#X32sZmlsZQ%3D%3D?line=8'>9</a>\u001b[0m                                                         edgecolor \u001b[39m=\u001b[39m \u001b[39m'\u001b[39m\u001b[39mchocolate\u001b[39m\u001b[39m'\u001b[39m,\n\u001b[1;32m     <a href='vscode-notebook-cell:/home/lulu/Documents/study_1_clean/code_clean/testing_for_MAUP.ipynb#X32sZmlsZQ%3D%3D?line=9'>10</a>\u001b[0m                                                         linewidth \u001b[39m=\u001b[39m \u001b[39m3\u001b[39m,\n\u001b[1;32m     <a href='vscode-notebook-cell:/home/lulu/Documents/study_1_clean/code_clean/testing_for_MAUP.ipynb#X32sZmlsZQ%3D%3D?line=10'>11</a>\u001b[0m                                                         linestyle \u001b[39m=\u001b[39m \u001b[39m'\u001b[39m\u001b[39m--\u001b[39m\u001b[39m'\u001b[39m)\n\u001b[1;32m     <a href='vscode-notebook-cell:/home/lulu/Documents/study_1_clean/code_clean/testing_for_MAUP.ipynb#X32sZmlsZQ%3D%3D?line=12'>13</a>\u001b[0m result_2\u001b[39m.\u001b[39mplot(ax\u001b[39m=\u001b[39max[\u001b[39m0\u001b[39m,\u001b[39m1\u001b[39m], cmap \u001b[39m=\u001b[39m \u001b[39m'\u001b[39m\u001b[39mBlues\u001b[39m\u001b[39m'\u001b[39m,column \u001b[39m=\u001b[39m \u001b[39m'\u001b[39m\u001b[39mres_mix\u001b[39m\u001b[39m'\u001b[39m, vmin \u001b[39m=\u001b[39m \u001b[39m0\u001b[39m, vmax \u001b[39m=\u001b[39m \u001b[39m1\u001b[39m)\n\u001b[1;32m     <a href='vscode-notebook-cell:/home/lulu/Documents/study_1_clean/code_clean/testing_for_MAUP.ipynb#X32sZmlsZQ%3D%3D?line=13'>14</a>\u001b[0m region_benchmark_res_mix_2\u001b[39m.\u001b[39mplot(ax\u001b[39m=\u001b[39max[\u001b[39m0\u001b[39m,\u001b[39m1\u001b[39m], color  \u001b[39m=\u001b[39m \u001b[39m'\u001b[39m\u001b[39mnone\u001b[39m\u001b[39m'\u001b[39m, edgecolor\u001b[39m=\u001b[39m\u001b[39m'\u001b[39m\u001b[39mblack\u001b[39m\u001b[39m'\u001b[39m, linewidth \u001b[39m=\u001b[39m \u001b[39m3\u001b[39m)\n",
      "File \u001b[0;32m~/.pyenv/versions/3.9.7/envs/study_1_venv/lib/python3.9/site-packages/geopandas/geodataframe.py:1327\u001b[0m, in \u001b[0;36mGeoDataFrame.__getitem__\u001b[0;34m(self, key)\u001b[0m\n\u001b[1;32m   1321\u001b[0m \u001b[39mdef\u001b[39;00m \u001b[39m__getitem__\u001b[39m(\u001b[39mself\u001b[39m, key):\n\u001b[1;32m   1322\u001b[0m     \u001b[39m\"\"\"\u001b[39;00m\n\u001b[1;32m   1323\u001b[0m \u001b[39m    If the result is a column containing only 'geometry', return a\u001b[39;00m\n\u001b[1;32m   1324\u001b[0m \u001b[39m    GeoSeries. If it's a DataFrame with a 'geometry' column, return a\u001b[39;00m\n\u001b[1;32m   1325\u001b[0m \u001b[39m    GeoDataFrame.\u001b[39;00m\n\u001b[1;32m   1326\u001b[0m \u001b[39m    \"\"\"\u001b[39;00m\n\u001b[0;32m-> 1327\u001b[0m     result \u001b[39m=\u001b[39m \u001b[39msuper\u001b[39;49m()\u001b[39m.\u001b[39;49m\u001b[39m__getitem__\u001b[39;49m(key)\n\u001b[1;32m   1328\u001b[0m     geo_col \u001b[39m=\u001b[39m \u001b[39mself\u001b[39m\u001b[39m.\u001b[39m_geometry_column_name\n\u001b[1;32m   1329\u001b[0m     \u001b[39mif\u001b[39;00m \u001b[39misinstance\u001b[39m(result, Series) \u001b[39mand\u001b[39;00m \u001b[39misinstance\u001b[39m(result\u001b[39m.\u001b[39mdtype, GeometryDtype):\n",
      "File \u001b[0;32m~/.pyenv/versions/3.9.7/envs/study_1_venv/lib/python3.9/site-packages/pandas/core/frame.py:3506\u001b[0m, in \u001b[0;36mDataFrame.__getitem__\u001b[0;34m(self, key)\u001b[0m\n\u001b[1;32m   3504\u001b[0m \u001b[39mif\u001b[39;00m \u001b[39mself\u001b[39m\u001b[39m.\u001b[39mcolumns\u001b[39m.\u001b[39mnlevels \u001b[39m>\u001b[39m \u001b[39m1\u001b[39m:\n\u001b[1;32m   3505\u001b[0m     \u001b[39mreturn\u001b[39;00m \u001b[39mself\u001b[39m\u001b[39m.\u001b[39m_getitem_multilevel(key)\n\u001b[0;32m-> 3506\u001b[0m indexer \u001b[39m=\u001b[39m \u001b[39mself\u001b[39;49m\u001b[39m.\u001b[39;49mcolumns\u001b[39m.\u001b[39;49mget_loc(key)\n\u001b[1;32m   3507\u001b[0m \u001b[39mif\u001b[39;00m is_integer(indexer):\n\u001b[1;32m   3508\u001b[0m     indexer \u001b[39m=\u001b[39m [indexer]\n",
      "File \u001b[0;32m~/.pyenv/versions/3.9.7/envs/study_1_venv/lib/python3.9/site-packages/pandas/core/indexes/base.py:3623\u001b[0m, in \u001b[0;36mIndex.get_loc\u001b[0;34m(self, key, method, tolerance)\u001b[0m\n\u001b[1;32m   3621\u001b[0m     \u001b[39mreturn\u001b[39;00m \u001b[39mself\u001b[39m\u001b[39m.\u001b[39m_engine\u001b[39m.\u001b[39mget_loc(casted_key)\n\u001b[1;32m   3622\u001b[0m \u001b[39mexcept\u001b[39;00m \u001b[39mKeyError\u001b[39;00m \u001b[39mas\u001b[39;00m err:\n\u001b[0;32m-> 3623\u001b[0m     \u001b[39mraise\u001b[39;00m \u001b[39mKeyError\u001b[39;00m(key) \u001b[39mfrom\u001b[39;00m \u001b[39merr\u001b[39;00m\n\u001b[1;32m   3624\u001b[0m \u001b[39mexcept\u001b[39;00m \u001b[39mTypeError\u001b[39;00m:\n\u001b[1;32m   3625\u001b[0m     \u001b[39m# If we have a listlike key, _check_indexing_error will raise\u001b[39;00m\n\u001b[1;32m   3626\u001b[0m     \u001b[39m#  InvalidIndexError. Otherwise we fall through and re-raise\u001b[39;00m\n\u001b[1;32m   3627\u001b[0m     \u001b[39m#  the TypeError.\u001b[39;00m\n\u001b[1;32m   3628\u001b[0m     \u001b[39mself\u001b[39m\u001b[39m.\u001b[39m_check_indexing_error(key)\n",
      "\u001b[0;31mKeyError\u001b[0m: 'seg'"
     ]
    },
    {
     "data": {
      "image/png": "[encoded data removed]",
      "text/plain": [
       "<Figure size 1152x576 with 6 Axes>"
      ]
     },
     "metadata": {
      "needs_background": "light"
     },
     "output_type": "display_data"
    }
   ],
   "source": [
    "fig, ax = plt.subplots(2,3,figsize=(16, 8))\n",
    "fig.set_tight_layout(True)\n",
    "\n",
    "\n",
    "result_1.plot(ax=ax[0,0], cmap = 'Blues',column = 'res_mix', vmin = 0, vmax = 1)\n",
    "region_benchmark_res_mix_1.plot(ax=ax[0,0], color  = 'none', edgecolor='black', linewidth = 3)\n",
    "region_res_mix_1.loc[region_res_mix_1['seg_res_mix_1'] == 1].plot(ax = ax[0,0],\n",
    "                                                        color  = 'none',\n",
    "                                                        edgecolor = 'chocolate',\n",
    "                                                        linewidth = 3,\n",
    "                                                        linestyle = '--')\n",
    "\n",
    "result_2.plot(ax=ax[0,1], cmap = 'Blues',column = 'res_mix', vmin = 0, vmax = 1)\n",
    "region_benchmark_res_mix_2.plot(ax=ax[0,1], color  = 'none', edgecolor='black', linewidth = 3)\n",
    "region_res_mix_2.loc[region_res_mix_2['seg'] == 1].plot(ax = ax[0,1],\n",
    "                                                        color  = 'none',\n",
    "                                                        edgecolor = 'chocolate',\n",
    "                                                        linewidth = 3)\n",
    "\n",
    "result_1.plot(ax=ax[1,0], cmap = 'Blues',column = 'exposure', vmin = 0, vmax = 1)\n",
    "region_benchmark_exposure_1.plot(ax=ax[1,0], color  = 'none', edgecolor='black', linewidth = 3)\n",
    "region_exposure_1.loc[region_exposure_1['seg'] == 1].plot(ax = ax[1,0],\n",
    "                                                          color  = 'none',\n",
    "                                                          edgecolor = 'chocolate',\n",
    "                                                          linewidth = 3)\n",
    "\n",
    "\n",
    "result_2.plot(ax=ax[1,1], cmap = 'Blues',column = 'exposure', vmin = 0, vmax = 1)\n",
    "region_benchmark_exposure_2.plot(ax=ax[1,1], color  = 'none', edgecolor='black', linewidth = 3)\n",
    "region_exposure_2.loc[region_exposure_2['seg'] == 1].plot(ax = ax[1,1],\n",
    "                                                          color  = 'none',\n",
    "                                                          edgecolor = 'chocolate',\n",
    "                                                          linewidth = 3)\n",
    "\n",
    "result_comp.plot(ax=ax[0,2], cmap = 'Blues',column = 'res_mix', vmin = 0, vmax = 1)\n",
    "region_res_mix_comp_2.plot(ax=ax[0,2], color  = 'none', edgecolor='black', linewidth = 3)\n",
    "region_res_mix_comp_1.loc[region_res_mix_comp_1['seg'] == 1].plot(ax = ax[0,2], \n",
    "                                                                  color  = 'none',\n",
    "                                                                  edgecolor = 'chocolate',\n",
    "                                                                  linewidth = 3)\n",
    "\n",
    "result_comp.plot(ax=ax[1,2], cmap = 'Blues',column = 'exposure', vmin = 0, vmax = 1)\n",
    "region_exposure_comp_2.plot(ax=ax[1,2], color  = 'none', edgecolor='black', linewidth = 3)\n",
    "region_exposure_comp_1.loc[region_res_mix_comp_1['seg'] == 1].plot(ax = ax[1,2], \n",
    "                                                                   color  = 'none',\n",
    "                                                                   edgecolor = 'chocolate',\n",
    "                                                                   linewidth = 3)\n",
    "\n",
    "\n",
    "plt.show()"
   ]
  },
  {
   "cell_type": "code",
   "execution_count": 59,
   "metadata": {},
   "outputs": [],
   "source": [
    "def compute_metrics(labels_true, labels_pred):\n",
    "\n",
    "    metrics = pd.DataFrame({'fowlkes_mallows':[fowlkes_mallows_score(labels_true,labels_pred)],\n",
    "                            'rand':[rand_score(labels_true,labels_pred)],\n",
    "                            'mutual_info':[mutual_info_score(labels_true,labels_pred)]})\n",
    "    return metrics"
   ]
  },
  {
   "cell_type": "code",
   "execution_count": 60,
   "metadata": {},
   "outputs": [
    {
     "data": {
      "text/html": [
       "<div>\n",
       "<style scoped>\n",
       "    .dataframe tbody tr th:only-of-type {\n",
       "        vertical-align: middle;\n",
       "    }\n",
       "\n",
       "    .dataframe tbody tr th {\n",
       "        vertical-align: top;\n",
       "    }\n",
       "\n",
       "    .dataframe thead th {\n",
       "        text-align: right;\n",
       "    }\n",
       "</style>\n",
       "<table border=\"1\" class=\"dataframe\">\n",
       "  <thead>\n",
       "    <tr style=\"text-align: right;\">\n",
       "      <th></th>\n",
       "      <th>fowlkes_mallows</th>\n",
       "      <th>rand</th>\n",
       "      <th>mutual_info</th>\n",
       "    </tr>\n",
       "  </thead>\n",
       "  <tbody>\n",
       "    <tr>\n",
       "      <th>0</th>\n",
       "      <td>0.578076</td>\n",
       "      <td>0.531677</td>\n",
       "      <td>0.022623</td>\n",
       "    </tr>\n",
       "  </tbody>\n",
       "</table>\n",
       "</div>"
      ],
      "text/plain": [
       "   fowlkes_mallows      rand  mutual_info\n",
       "0         0.578076  0.531677     0.022623"
      ]
     },
     "execution_count": 60,
     "metadata": {},
     "output_type": "execute_result"
    }
   ],
   "source": [
    "compute_metrics(result_1['seg_res_mix'], result_1['seg_res_mix_1'])"
   ]
  },
  {
   "cell_type": "code",
   "execution_count": 61,
   "metadata": {},
   "outputs": [
    {
     "data": {
      "text/html": [
       "<div>\n",
       "<style scoped>\n",
       "    .dataframe tbody tr th:only-of-type {\n",
       "        vertical-align: middle;\n",
       "    }\n",
       "\n",
       "    .dataframe tbody tr th {\n",
       "        vertical-align: top;\n",
       "    }\n",
       "\n",
       "    .dataframe thead th {\n",
       "        text-align: right;\n",
       "    }\n",
       "</style>\n",
       "<table border=\"1\" class=\"dataframe\">\n",
       "  <thead>\n",
       "    <tr style=\"text-align: right;\">\n",
       "      <th></th>\n",
       "      <th>fowlkes_mallows</th>\n",
       "      <th>rand</th>\n",
       "      <th>mutual_info</th>\n",
       "    </tr>\n",
       "  </thead>\n",
       "  <tbody>\n",
       "    <tr>\n",
       "      <th>0</th>\n",
       "      <td>0.801634</td>\n",
       "      <td>0.775398</td>\n",
       "      <td>0.251682</td>\n",
       "    </tr>\n",
       "  </tbody>\n",
       "</table>\n",
       "</div>"
      ],
      "text/plain": [
       "   fowlkes_mallows      rand  mutual_info\n",
       "0         0.801634  0.775398     0.251682"
      ]
     },
     "execution_count": 61,
     "metadata": {},
     "output_type": "execute_result"
    }
   ],
   "source": [
    "compute_metrics(result_1['seg_exposure'], result_1['seg_exposure_1'])"
   ]
  },
  {
   "cell_type": "code",
   "execution_count": 32,
   "metadata": {},
   "outputs": [
    {
     "data": {
      "text/html": [
       "<div>\n",
       "<style scoped>\n",
       "    .dataframe tbody tr th:only-of-type {\n",
       "        vertical-align: middle;\n",
       "    }\n",
       "\n",
       "    .dataframe tbody tr th {\n",
       "        vertical-align: top;\n",
       "    }\n",
       "\n",
       "    .dataframe thead th {\n",
       "        text-align: right;\n",
       "    }\n",
       "</style>\n",
       "<table border=\"1\" class=\"dataframe\">\n",
       "  <thead>\n",
       "    <tr style=\"text-align: right;\">\n",
       "      <th></th>\n",
       "      <th>fowlkes_mallows</th>\n",
       "      <th>rand</th>\n",
       "      <th>mutual_info</th>\n",
       "    </tr>\n",
       "  </thead>\n",
       "  <tbody>\n",
       "    <tr>\n",
       "      <th>0</th>\n",
       "      <td>0.25002</td>\n",
       "      <td>0.521442</td>\n",
       "      <td>0.651799</td>\n",
       "    </tr>\n",
       "  </tbody>\n",
       "</table>\n",
       "</div>"
      ],
      "text/plain": [
       "   fowlkes_mallows      rand  mutual_info\n",
       "0          0.25002  0.521442     0.651799"
      ]
     },
     "execution_count": 32,
     "metadata": {},
     "output_type": "execute_result"
    }
   ],
   "source": [
    "compute_metrics(result_2['region_res_mix'], result_2['region_res_mix_2'])"
   ]
  },
  {
   "cell_type": "code",
   "execution_count": 33,
   "metadata": {},
   "outputs": [
    {
     "data": {
      "text/html": [
       "<div>\n",
       "<style scoped>\n",
       "    .dataframe tbody tr th:only-of-type {\n",
       "        vertical-align: middle;\n",
       "    }\n",
       "\n",
       "    .dataframe tbody tr th {\n",
       "        vertical-align: top;\n",
       "    }\n",
       "\n",
       "    .dataframe thead th {\n",
       "        text-align: right;\n",
       "    }\n",
       "</style>\n",
       "<table border=\"1\" class=\"dataframe\">\n",
       "  <thead>\n",
       "    <tr style=\"text-align: right;\">\n",
       "      <th></th>\n",
       "      <th>fowlkes_mallows</th>\n",
       "      <th>rand</th>\n",
       "      <th>mutual_info</th>\n",
       "    </tr>\n",
       "  </thead>\n",
       "  <tbody>\n",
       "    <tr>\n",
       "      <th>0</th>\n",
       "      <td>0.326539</td>\n",
       "      <td>0.801631</td>\n",
       "      <td>1.040566</td>\n",
       "    </tr>\n",
       "  </tbody>\n",
       "</table>\n",
       "</div>"
      ],
      "text/plain": [
       "   fowlkes_mallows      rand  mutual_info\n",
       "0         0.326539  0.801631     1.040566"
      ]
     },
     "execution_count": 33,
     "metadata": {},
     "output_type": "execute_result"
    }
   ],
   "source": [
    "compute_metrics(result_2['region_exposure'], result_2['region_exposure_2'])"
   ]
  },
  {
   "cell_type": "code",
   "execution_count": 34,
   "metadata": {},
   "outputs": [
    {
     "data": {
      "text/html": [
       "<div>\n",
       "<style scoped>\n",
       "    .dataframe tbody tr th:only-of-type {\n",
       "        vertical-align: middle;\n",
       "    }\n",
       "\n",
       "    .dataframe tbody tr th {\n",
       "        vertical-align: top;\n",
       "    }\n",
       "\n",
       "    .dataframe thead th {\n",
       "        text-align: right;\n",
       "    }\n",
       "</style>\n",
       "<table border=\"1\" class=\"dataframe\">\n",
       "  <thead>\n",
       "    <tr style=\"text-align: right;\">\n",
       "      <th></th>\n",
       "      <th>fowlkes_mallows</th>\n",
       "      <th>rand</th>\n",
       "      <th>mutual_info</th>\n",
       "    </tr>\n",
       "  </thead>\n",
       "  <tbody>\n",
       "    <tr>\n",
       "      <th>0</th>\n",
       "      <td>0.306539</td>\n",
       "      <td>0.878277</td>\n",
       "      <td>1.443469</td>\n",
       "    </tr>\n",
       "  </tbody>\n",
       "</table>\n",
       "</div>"
      ],
      "text/plain": [
       "   fowlkes_mallows      rand  mutual_info\n",
       "0         0.306539  0.878277     1.443469"
      ]
     },
     "execution_count": 34,
     "metadata": {},
     "output_type": "execute_result"
    }
   ],
   "source": [
    "compute_metrics(result_comp['region_res_mix_1'], result_comp['region_res_mix_2'])"
   ]
  },
  {
   "cell_type": "code",
   "execution_count": 35,
   "metadata": {},
   "outputs": [
    {
     "data": {
      "text/html": [
       "<div>\n",
       "<style scoped>\n",
       "    .dataframe tbody tr th:only-of-type {\n",
       "        vertical-align: middle;\n",
       "    }\n",
       "\n",
       "    .dataframe tbody tr th {\n",
       "        vertical-align: top;\n",
       "    }\n",
       "\n",
       "    .dataframe thead th {\n",
       "        text-align: right;\n",
       "    }\n",
       "</style>\n",
       "<table border=\"1\" class=\"dataframe\">\n",
       "  <thead>\n",
       "    <tr style=\"text-align: right;\">\n",
       "      <th></th>\n",
       "      <th>fowlkes_mallows</th>\n",
       "      <th>rand</th>\n",
       "      <th>mutual_info</th>\n",
       "    </tr>\n",
       "  </thead>\n",
       "  <tbody>\n",
       "    <tr>\n",
       "      <th>0</th>\n",
       "      <td>0.442208</td>\n",
       "      <td>0.785241</td>\n",
       "      <td>1.018229</td>\n",
       "    </tr>\n",
       "  </tbody>\n",
       "</table>\n",
       "</div>"
      ],
      "text/plain": [
       "   fowlkes_mallows      rand  mutual_info\n",
       "0         0.442208  0.785241     1.018229"
      ]
     },
     "execution_count": 35,
     "metadata": {},
     "output_type": "execute_result"
    }
   ],
   "source": [
    "compute_metrics(result_comp['region_exposure_1'], result_comp['region_exposure_2'])"
   ]
  },
  {
   "attachments": {},
   "cell_type": "markdown",
   "metadata": {},
   "source": [
    "What remains to be done:\n",
    "- Compute regions in the benchmark\n",
    "- Compute regions in the exposure\n",
    "- Compare\n",
    "- Compute the exposure with the fine scale data and compare"
   ]
  }
 ],
 "metadata": {
  "kernelspec": {
   "display_name": "study_1_venv",
   "language": "python",
   "name": "python3"
  },
  "language_info": {
   "codemirror_mode": {
    "name": "ipython",
    "version": 3
   },
   "file_extension": ".py",
   "mimetype": "text/x-python",
   "name": "python",
   "nbconvert_exporter": "python",
   "pygments_lexer": "ipython3",
   "version": "3.9.7"
  },
  "orig_nbformat": 4,
  "vscode": {
   "interpreter": {
    "hash": "11eb3bdda620b386ac311b3d07c097973ef5c99cb9184bf1a093190cd8996fdc"
   }
  }
 },
 "nbformat": 4,
 "nbformat_minor": 2
}
