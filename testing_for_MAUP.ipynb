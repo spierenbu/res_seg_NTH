{
 "cells": [
  {
   "cell_type": "code",
   "execution_count": null,
   "metadata": {},
   "outputs": [],
   "source": [
    "import geopandas as gpd\n",
    "import pandas as pd\n",
    "from scipy.stats import norm \n",
    "import numpy as np\n",
    "from shapely.geometry import Polygon\n",
    "import string\n",
    "from sklearn.cluster import AgglomerativeClustering\n",
    "from sklearn.metrics import fowlkes_mallows_score, rand_score, mutual_info_score\n",
    "import matplotlib.pyplot as plt\n",
    "import os"
   ]
  },
  {
   "cell_type": "code",
   "execution_count": null,
   "metadata": {},
   "outputs": [],
   "source": [
    "zones = gpd.read_file(\"../data/processed_data/zones_delineation/PC_Leiden.gpkg\")"
   ]
  },
  {
   "cell_type": "code",
   "execution_count": null,
   "metadata": {},
   "outputs": [],
   "source": [
    "zones.area.median()"
   ]
  },
  {
   "cell_type": "code",
   "execution_count": null,
   "metadata": {},
   "outputs": [],
   "source": [
    "if not os.path.isfile('../data/toy_example/example_review.csv'):\n",
    "    households_data = pd.read_csv('../data/toy_example/toy_example_base.csv', names= list(range(0,27)))\n",
    "    households_data = households_data.applymap(lambda x: x + norm.rvs(loc = 0, scale = 0.5))\n",
    "    households_data = households_data.applymap(lambda x: 1 if x>0.5 else 0)\n",
    "else: \n",
    "    households_data = pd.read_csv('../data/toy_example/example_review.csv')\n",
    "    households_data.columns = households_data.columns.astype(int)"
   ]
  },
  {
   "cell_type": "code",
   "execution_count": null,
   "metadata": {},
   "outputs": [],
   "source": [
    "# Making an alphabetical index for the city.\n",
    "list_char=list(string.ascii_uppercase)\n",
    "alphabet=list_char+[x+y for x in list_char for y in list_char]\n",
    "name_columns_1 = alphabet[0:13]\n",
    "# name_columns_2 = [sub + '_2' for sub in alphabet[0:13]]"
   ]
  },
  {
   "cell_type": "code",
   "execution_count": null,
   "metadata": {},
   "outputs": [],
   "source": [
    "city_1 = pd.DataFrame(data = [[np.mean(households_data.loc[2*i:2*i+1,2*j:2*j+1].mean().mean()) for i in range(13)] for j in range(13)],\n",
    "                      columns = name_columns_1,\n",
    "                      index = name_columns_1)\n",
    "                      \n",
    "city_2 = pd.DataFrame(data = [[np.mean(households_data.loc[2*i+1:2*i+2,2*j+1:2*j+2].mean().mean()) for i in range(13)] for j in range(13)],\n",
    "                      columns = name_columns_1,\n",
    "                      index = name_columns_1)\n",
    "                      #columns = name_columns_2,\n",
    "                      #index = name_columns_2)"
   ]
  },
  {
   "cell_type": "code",
   "execution_count": null,
   "metadata": {},
   "outputs": [],
   "source": [
    "def compute_res_mix(city_mix):\n",
    "    res_mix = city_mix.T.stack().reset_index()\n",
    "    res_mix = res_mix.rename(columns = {0:'res_mix'})\n",
    "    res_mix['polygon_id'] = res_mix['level_0'] + '_' + res_mix['level_1']\n",
    "    res_mix = res_mix.drop(columns = ['level_0','level_1'])\n",
    "    return res_mix"
   ]
  },
  {
   "cell_type": "code",
   "execution_count": null,
   "metadata": {},
   "outputs": [],
   "source": [
    "# Generation of a grid.\n",
    "def create_grid_geometry(city_mix, size_cell, name_columns):\n",
    "\n",
    "    N_rows = len(city_mix)\n",
    "    polygons = []\n",
    "    polygon_id = []\n",
    "\n",
    "    for x in range(N_rows):\n",
    "        for y in range(N_rows):\n",
    "            polygons.append(Polygon([(size_cell*x,size_cell*y), \n",
    "                                    (size_cell*(x+1), size_cell*y), \n",
    "                                    (size_cell*(x+1), size_cell*(y+1)),\n",
    "                                    (size_cell*x, size_cell*(y+1))]))\n",
    "            polygon_id.append(name_columns[x] + '_' + name_columns[y])\n",
    "\n",
    "    grid = gpd.GeoDataFrame({'polygon_id':polygon_id,'geometry':polygons})\n",
    "    \n",
    "    centroids = grid.copy()\n",
    "    centroids['geometry'] = grid.centroid\n",
    "\n",
    "    return grid, centroids"
   ]
  },
  {
   "cell_type": "code",
   "execution_count": null,
   "metadata": {},
   "outputs": [],
   "source": [
    "def compute_shortest_paths(res_mix,size_cell, grid):\n",
    "    # Computing the shortest paths from cell to cell.\n",
    "    shortest_paths = pd.DataFrame({'from_polygon':[],'to_polygon':[],'distance':[]})\n",
    "\n",
    "    for i in res_mix['polygon_id']:\n",
    "        shortest_paths_i = pd.DataFrame({'from_polygon':[i]*len(res_mix),\n",
    "                                         'to_polygon':res_mix['polygon_id'],\n",
    "                                         'distance':grid.distance(grid.loc[res_mix['polygon_id'] == i,'geometry'].values[0])})\n",
    "        shortest_paths = pd.concat([shortest_paths,shortest_paths_i], ignore_index=True)\n",
    "    \n",
    "    shortest_paths['weight'] = 1/(0.3*size_cell*0.707)**2\n",
    "    shortest_paths['weight'] = shortest_paths['weight'].mask(shortest_paths['distance'] > 0,\n",
    "                                                             1/(0.3*shortest_paths['distance'])**2)\n",
    "\n",
    "    return shortest_paths"
   ]
  },
  {
   "cell_type": "code",
   "execution_count": null,
   "metadata": {},
   "outputs": [],
   "source": [
    "def compute_exposure(res_mix, grid, shortest_paths):\n",
    "\n",
    "    exposure = res_mix.merge(shortest_paths[['from_polygon','to_polygon','weight']], \n",
    "                             left_on = 'polygon_id',\n",
    "                             right_on = 'from_polygon')\n",
    "    exposure = exposure.drop(columns = ['from_polygon','polygon_id'])\n",
    "    exposure = exposure.rename(columns = {'to_polygon':'polygon_id'})\n",
    "    exposure['exposure'] = exposure['res_mix']*exposure['weight']\n",
    "    exposure = exposure[['polygon_id','weight','exposure']].groupby(by = 'polygon_id').sum().reset_index()\n",
    "    exposure['exposure'] = exposure['exposure'] / exposure['weight']\n",
    "\n",
    "    exposure = exposure.merge(res_mix, on ='polygon_id')\n",
    "\n",
    "    return exposure"
   ]
  },
  {
   "cell_type": "code",
   "execution_count": null,
   "metadata": {},
   "outputs": [],
   "source": [
    "res_mix_1 = compute_res_mix(city_1)\n",
    "grid, centroids = create_grid_geometry(city_1, 3, name_columns_1)\n",
    "shortest_paths = compute_shortest_paths(res_mix_1, 3,centroids)\n",
    "exposure_1 = compute_exposure(res_mix_1, centroids, shortest_paths)\n",
    "res_mix_2 = compute_res_mix(city_2)\n",
    "exposure_2 = compute_exposure(res_mix_2, centroids, shortest_paths)"
   ]
  },
  {
   "cell_type": "code",
   "execution_count": null,
   "metadata": {},
   "outputs": [],
   "source": [
    "exposure_1 = exposure_1.add_suffix('_1').rename(columns = {'polygon_id_1':'polygon_id'})\n",
    "exposure_2 = exposure_2.add_suffix('_2').rename(columns = {'polygon_id_2':'polygon_id'})"
   ]
  },
  {
   "cell_type": "code",
   "execution_count": null,
   "metadata": {},
   "outputs": [],
   "source": [
    "grid_1 = grid.merge(exposure_1[['polygon_id','exposure_1','res_mix_1']], on = 'polygon_id')\n",
    "grid_2 = grid.merge(exposure_2[['polygon_id','exposure_2','res_mix_2']], on = 'polygon_id')\n",
    "grid_2['geometry'] = grid_2['geometry'].translate(1.5,1.5)"
   ]
  },
  {
   "cell_type": "code",
   "execution_count": null,
   "metadata": {},
   "outputs": [],
   "source": [
    "name_columns_hh_data = alphabet[0:27]\n",
    "city_benchmark = pd.DataFrame(data = households_data,\n",
    "                              columns = name_columns_hh_data,\n",
    "                              index = name_columns_hh_data)"
   ]
  },
  {
   "cell_type": "code",
   "execution_count": null,
   "metadata": {},
   "outputs": [],
   "source": [
    "households_data.index = households_data.index.astype(str)\n",
    "households_data.columns = households_data.columns.astype(str)\n",
    "res_mix_hh_data = compute_res_mix(households_data)\n",
    "grid_hh_data, centroids_hh_data = create_grid_geometry(households_data, 1.5,list(households_data.index))\n",
    "shortest_paths_hh_data = compute_shortest_paths(res_mix_hh_data,1.5 ,centroids_hh_data)\n",
    "exposure_hh_data = compute_exposure(res_mix_hh_data, centroids_hh_data, shortest_paths_hh_data)"
   ]
  },
  {
   "cell_type": "code",
   "execution_count": null,
   "metadata": {},
   "outputs": [],
   "source": [
    "grid_hh_data = grid_hh_data.merge(exposure_hh_data[['polygon_id','exposure','res_mix']], on = 'polygon_id')"
   ]
  },
  {
   "cell_type": "code",
   "execution_count": null,
   "metadata": {},
   "outputs": [],
   "source": [
    "fig, ax = plt.subplots(2,3,figsize=(16, 8))\n",
    "fig.set_tight_layout(True)\n",
    "\n",
    "# Grid 1\n",
    "grid_1.plot(ax=ax[0,0], column = 'res_mix_1', vmin = 0, vmax = 1)\n",
    "grid_1.plot(ax=ax[1,0], column = 'exposure_1', vmin = 0, vmax = 1)\n",
    "\n",
    "# Grid 2\n",
    "grid_2.plot(ax=ax[0,1], column = 'res_mix_2', vmin = 0, vmax = 1)\n",
    "grid_2.plot(ax=ax[1,1], column = 'exposure_2', vmin = 0, vmax = 1)\n",
    "\n",
    "# Fine grid \n",
    "grid_hh_data.plot(ax=ax[0,2], column = 'res_mix', vmin = 0, vmax = 1)\n",
    "grid_hh_data.plot(ax=ax[1,2], column = 'exposure', vmin = 0, vmax = 1)\n",
    "\n",
    "# Set titles\n",
    "ax[0,0].set_title('Grid 1: residential mix', size = 15)\n",
    "ax[0,1].set_title('Grid 2: residential mix', size = 15)\n",
    "ax[0,2].set_title('Household data', size = 15)\n",
    "ax[1,0].set_title('Grid 1: exposure', size = 15)\n",
    "ax[1,1].set_title('Grid 2: exposure', size = 15)\n",
    "ax[1,2].set_title('Household data: exposure', size = 15)\n",
    "plt.show()"
   ]
  },
  {
   "cell_type": "code",
   "execution_count": null,
   "metadata": {},
   "outputs": [],
   "source": [
    "def compute_adjacency_matrix(shortest_paths, grid, size_cell):\n",
    "\n",
    "    adjacent_units = shortest_paths[['from_polygon','to_polygon','distance']]\n",
    "    adjacent_units['adj'] = 0\n",
    "    adjacent_units['adj'] = adjacent_units['adj'].mask((adjacent_units['distance'] > size_cell - 0.000001) & \n",
    "                                                       (adjacent_units['distance'] < size_cell + 0.000001), 1)\n",
    "    adjacency_matrix = adjacent_units[['from_polygon','to_polygon','adj']].pivot_table(index = 'from_polygon',\n",
    "                                                                                       columns = 'to_polygon',\n",
    "                                                                                       values = 'adj')\n",
    "    adjacency_matrix = adjacency_matrix.reindex(index = grid['polygon_id'],\n",
    "                                                columns = grid['polygon_id'])\n",
    "    return adjacency_matrix"
   ]
  },
  {
   "cell_type": "code",
   "execution_count": null,
   "metadata": {},
   "outputs": [],
   "source": [
    "adjacency_matrix_1 = compute_adjacency_matrix(shortest_paths, grid_1, 3)\n",
    "adjacency_matrix_2 = compute_adjacency_matrix(shortest_paths, grid_2, 3)\n",
    "adjacency_matrix_hh_data = compute_adjacency_matrix(shortest_paths_hh_data, grid_hh_data, 1.5)"
   ]
  },
  {
   "cell_type": "code",
   "execution_count": null,
   "metadata": {},
   "outputs": [],
   "source": [
    "def regionalization(grid, cluster_variable, adjacency_matrix, n_regions):\n",
    "\n",
    "    X = np.array([grid.loc[:,cluster_variable]]).T\n",
    "    clus_hh_data = AgglomerativeClustering(n_clusters = n_regions,\n",
    "                                           connectivity = adjacency_matrix,\n",
    "                                           linkage = 'ward').fit(X)\n",
    "\n",
    "    grid['region_' + cluster_variable] = clus_hh_data.labels_\n",
    "    \n",
    "    return grid"
   ]
  },
  {
   "cell_type": "code",
   "execution_count": null,
   "metadata": {},
   "outputs": [],
   "source": [
    "def regionalization_var(grid, cluster_variable, adjacency_matrix, threshold):\n",
    "\n",
    "    X = np.array([grid.loc[:,cluster_variable]]).T\n",
    "    clus_hh_data = AgglomerativeClustering(n_clusters = None,\n",
    "                                           distance_threshold=threshold,\n",
    "                                           connectivity = adjacency_matrix,\n",
    "                                           linkage = 'ward').fit(X)\n",
    "\n",
    "    grid['region_' + cluster_variable] = clus_hh_data.labels_\n",
    "\n",
    "    grid['count'] = 1    \n",
    "    regions = grid[[cluster_variable,'region_' + cluster_variable,\n",
    "                    'count','geometry']].dissolve(by = 'region_' + cluster_variable, aggfunc = 'sum')\n",
    "\n",
    "    regions[cluster_variable] = regions[cluster_variable] / regions['count']\n",
    "    regions = regions.drop(columns = 'count').reset_index()\n",
    "\n",
    "    city_average = grid.loc[:,cluster_variable].mean()\n",
    "    # regions['seg_' + cluster_variable] = 0\n",
    "    # regions['seg_' + cluster_variable] = regions['seg_' + cluster_variable].mask(regions[cluster_variable] >= 1.1 * city_average,1)\n",
    "    # regions['seg_' + cluster_variable] = regions['seg_' + cluster_variable].mask(regions[cluster_variable] <= 0.9 * city_average,-1)\n",
    "    regions['seg_' + cluster_variable] = -1\n",
    "    regions['seg_' + cluster_variable] = regions['seg_' + cluster_variable].mask(regions[cluster_variable] >= city_average,1)\n",
    "\n",
    "    grid = grid.sjoin(regions[['seg_' + cluster_variable,'geometry']],predicate = 'within').drop(columns = 'index_right')\n",
    "\n",
    "    return grid"
   ]
  },
  {
   "cell_type": "code",
   "execution_count": null,
   "metadata": {},
   "outputs": [],
   "source": [
    "TSS_res_mix_1 = grid_1.res_mix_1.var()*len(grid_1)\n",
    "TSS_res_mix_2 = grid_2.res_mix_2.var()*len(grid_2)\n",
    "TSS_exposure_1 = grid_1.exposure_1.var()*len(grid_1)\n",
    "TSS_exposure_2 = grid_2.exposure_2.var()*len(grid_2)\n",
    "TSS_hh_data_exposure = grid_hh_data.exposure.var()*len(grid_hh_data)\n",
    "TSS_hh_data_res_mix = grid_hh_data.res_mix.var()*len(grid_hh_data)"
   ]
  },
  {
   "cell_type": "code",
   "execution_count": null,
   "metadata": {},
   "outputs": [],
   "source": [
    "coef_treshold = 0.1\n",
    "grid_1 = regionalization_var(grid_1, 'res_mix_1', adjacency_matrix_1,coef_treshold * np.sqrt(TSS_res_mix_1))\n",
    "grid_2 = regionalization_var(grid_2, 'res_mix_2', adjacency_matrix_2,coef_treshold * np.sqrt(TSS_res_mix_2))\n",
    "grid_1 = regionalization_var(grid_1, 'exposure_1', adjacency_matrix_1,coef_treshold * np.sqrt(TSS_exposure_1))\n",
    "grid_2 = regionalization_var(grid_2, 'exposure_2', adjacency_matrix_2,coef_treshold * np.sqrt(TSS_exposure_2))\n",
    "grid_hh_data = regionalization_var(grid_hh_data, 'exposure', adjacency_matrix_hh_data,coef_treshold * np.sqrt(TSS_hh_data_exposure))\n",
    "grid_hh_data = regionalization_var(grid_hh_data, 'res_mix', adjacency_matrix_hh_data,coef_treshold * np.sqrt(TSS_hh_data_res_mix))"
   ]
  },
  {
   "cell_type": "code",
   "execution_count": null,
   "metadata": {},
   "outputs": [],
   "source": [
    "# N_regions = 3\n",
    "# grid_1 = regionalization(grid_1, 'res_mix_1', adjacency_matrix_1,N_regions)\n",
    "# grid_2 = regionalization(grid_2, 'res_mix_2', adjacency_matrix_2,N_regions)\n",
    "# grid_1 = regionalization(grid_1, 'exposure_1', adjacency_matrix_1,N_regions)\n",
    "# grid_2 = regionalization(grid_2, 'exposure_2', adjacency_matrix_2,N_regions)\n",
    "# grid_hh_data = regionalization(grid_hh_data, 'exposure', adjacency_matrix_hh_data,N_regions)\n",
    "# grid_hh_data = regionalization(grid_hh_data, 'res_mix', adjacency_matrix_hh_data,N_regions)"
   ]
  },
  {
   "cell_type": "code",
   "execution_count": null,
   "metadata": {},
   "outputs": [],
   "source": [
    "result_1 = grid_hh_data.sjoin(grid_1[['res_mix_1','exposure_1','seg_res_mix_1','seg_exposure_1','geometry']], \n",
    "                              predicate = 'within').drop(columns = 'index_right')\n",
    "result_2 = grid_hh_data.sjoin(grid_2[['res_mix_2','exposure_2','seg_res_mix_2','seg_exposure_2','geometry']], \n",
    "                              predicate = 'within').drop(columns = 'index_right')\n",
    "result_comp = result_1.sjoin(grid_2[['res_mix_2','exposure_2','seg_res_mix_2','seg_exposure_2','geometry']], \n",
    "                             predicate = 'within').drop(columns = 'index_right')"
   ]
  },
  {
   "cell_type": "code",
   "execution_count": null,
   "metadata": {},
   "outputs": [],
   "source": [
    "region_res_mix_1 = result_1.dissolve(by = 'seg_res_mix_1').reset_index()\n",
    "region_exposure_1 = result_1.dissolve(by = 'seg_exposure_1').reset_index()\n",
    "\n",
    "region_exposure_2 = result_2.dissolve(by = 'seg_exposure_2').reset_index()\n",
    "region_res_mix_2 = result_2.dissolve(by = 'seg_res_mix_2').reset_index()\n",
    "\n",
    "region_benchmark_exposure = grid_hh_data.dissolve(by = 'seg_exposure').reset_index()\n",
    "region_benchmark_res_mix = grid_hh_data.dissolve(by = 'seg_res_mix').reset_index()\n",
    "# Benchmark in grid 1.\n",
    "region_benchmark_res_mix_1 = result_1.dissolve(by = 'seg_res_mix').reset_index()\n",
    "region_benchmark_exposure_1 = result_1.dissolve(by = 'seg_exposure').reset_index()\n",
    "# Benchmark, in grid 2.\n",
    "region_benchmark_res_mix_2 = result_2.dissolve(by = 'seg_res_mix').reset_index()\n",
    "region_benchmark_exposure_2 = result_2.dissolve(by = 'seg_exposure').reset_index()\n",
    "# Benchmark, in comp\n",
    "region_exposure_comp_1 = result_comp.dissolve(by = 'seg_exposure_1').reset_index()\n",
    "region_res_mix_comp_1 = result_comp.dissolve(by = 'seg_res_mix_1').reset_index()\n",
    "region_exposure_comp_2 = result_comp.dissolve(by = 'seg_exposure_2').reset_index()\n",
    "region_res_mix_comp_2 = result_comp.dissolve(by = 'seg_res_mix_2').reset_index()"
   ]
  },
  {
   "cell_type": "code",
   "execution_count": null,
   "metadata": {},
   "outputs": [],
   "source": [
    "fig, ax = plt.subplots(1,2,figsize=(16, 8))\n",
    "fig.set_tight_layout(True)\n",
    "\n",
    "# Fine grid\n",
    "grid_hh_data.plot(ax=ax[0], cmap = 'Blues', column = 'res_mix', vmin = 0, vmax = 1)\n",
    "grid_hh_data.plot(ax=ax[0],color = 'none', edgecolor = 'black')\n",
    "grid_hh_data.plot(ax=ax[1], cmap = 'Blues', column = 'res_mix', vmin = 0, vmax = 1)\n",
    "grid_hh_data.plot(ax=ax[1],color = 'none', edgecolor = 'black')\n",
    "\n",
    "grid_1.plot(ax = ax[0], color = 'none', edgecolor='chocolate',linewidth = 3)\n",
    "grid_2.plot(ax = ax[1], color = 'none', edgecolor='chocolate',linewidth = 3)\n",
    "\n",
    "# Set titles\n",
    "ax[0].set_title('Grid 1', size = 15)\n",
    "ax[1].set_title('Grid 2', size = 15)\n",
    "ax[0].axis('off')\n",
    "ax[1].axis('off')\n",
    "plt.show()\n"
   ]
  },
  {
   "cell_type": "code",
   "execution_count": null,
   "metadata": {},
   "outputs": [],
   "source": [
    "fig, ax = plt.subplots(3,2,figsize=(8, 16))\n",
    "fig.set_tight_layout(True)\n",
    "\n",
    "# Fine grid\n",
    "grid_hh_data.plot(ax=ax[0,0], cmap = 'Blues', column = 'res_mix', vmin = 0, vmax = 1)\n",
    "grid_hh_data.dissolve().plot(ax=ax[0,0],color = 'none',edgecolor='black',linewidth = 3)\n",
    "region_benchmark_res_mix.loc[region_benchmark_res_mix['seg_res_mix'] == 1].plot(ax=ax[0,0],\n",
    "                                                                                color  = 'none', \n",
    "                                                                                edgecolor='chocolate',\n",
    "                                                                                hatch = '/',\n",
    "                                                                                linewidth = 3)\n",
    "\n",
    "grid_hh_data.plot(ax = ax[0,1], cmap = 'Blues', column = 'exposure', vmin = 0, vmax = 1)\n",
    "grid_hh_data.dissolve().plot(ax = ax[0,1], color = 'none',edgecolor='black',linewidth = 3)\n",
    "region_benchmark_exposure.loc[region_benchmark_exposure['seg_exposure'] == 1].plot(ax = ax[0,1], \n",
    "                                                                                   color  = 'none', \n",
    "                                                                                   edgecolor = 'chocolate', \n",
    "                                                                                   hatch = '/',\n",
    "                                                                                   linewidth = 3)\n",
    "\n",
    "\n",
    "# Grid 1\n",
    "result_1.plot(ax=ax[1,0], cmap = 'Blues',column = 'res_mix_1', vmin = 0, vmax = 1)\n",
    "result_1.dissolve().plot(ax=ax[1,0],color = 'none',edgecolor='black',linewidth = 3)\n",
    "region_res_mix_1.loc[region_res_mix_1['seg_res_mix_1'] == 1].plot(ax=ax[1,0],\n",
    "                                                                color  = 'none',\n",
    "                                                                hatch='/',\n",
    "                                                                edgecolor='chocolate',\n",
    "                                                                linewidth = 3)\n",
    "result_1.plot(ax=ax[1,1], cmap = 'Blues', column = 'exposure_1', vmin = 0, vmax = 1)\n",
    "result_1.dissolve().plot(ax=ax[1,1],color = 'none',edgecolor='black',linewidth = 3)\n",
    "region_exposure_1.loc[region_exposure_1['seg_exposure_1'] == 1].plot(ax=ax[1,1], \n",
    "                                                                   color  = 'none',\n",
    "                                                                   hatch='/', \n",
    "                                                                   edgecolor='chocolate', \n",
    "                                                                   linewidth = 3)\n",
    "\n",
    "\n",
    "# Grid 2\n",
    "result_2.plot(ax=ax[2,0], cmap = 'Blues', column = 'res_mix_2', vmin = 0, vmax = 1)\n",
    "result_2.dissolve().plot(ax=ax[2,0],color = 'none',edgecolor='black',linewidth = 3)\n",
    "region_res_mix_2.loc[region_res_mix_2['seg_res_mix_2'] == 1].plot(ax = ax[2,0], \n",
    "                                                                color  = 'none',\n",
    "                                                                 edgecolor = 'chocolate',\n",
    "                                                                 hatch='/',  \n",
    "                                                                 linewidth = 3)\n",
    "\n",
    "result_2.plot(ax=ax[2,1], cmap = 'Blues', column = 'exposure_2', vmin = 0, vmax = 1)\n",
    "result_2.dissolve().plot(ax=ax[2,1],color = 'none',edgecolor='black', linewidth = 3)\n",
    "region_exposure_2.loc[region_exposure_2['seg_exposure_2'] == 1].plot(ax = ax[2,1], \n",
    "                                                                   color  = 'none',\n",
    "                                                                   edgecolor='chocolate',\n",
    "                                                                   hatch='/',   \n",
    "                                                                   linewidth = 3)\n",
    "\n",
    "# Set titles\n",
    "ax[0,0].set_title('Household data: residential mix', size = 15)\n",
    "ax[0,1].set_title('Household data: exposure', size = 15)\n",
    "ax[1,0].set_title('Grid 1: residential mix', size = 15)\n",
    "ax[2,0].set_title('Grid 2: residential mix', size = 15)\n",
    "ax[1,1].set_title('Grid 1: exposure', size = 15)\n",
    "ax[2,1].set_title('Grid 2: exposure', size = 15)\n",
    "ax[0,0].axis('off')\n",
    "ax[0,1].axis('off')\n",
    "ax[2,0].axis('off')\n",
    "ax[1,0].axis('off')\n",
    "ax[1,1].axis('off')\n",
    "ax[2,1].axis('off')\n",
    "plt.show()\n"
   ]
  },
  {
   "cell_type": "code",
   "execution_count": null,
   "metadata": {},
   "outputs": [],
   "source": [
    "fig, ax = plt.subplots(2,3,figsize=(16, 8))\n",
    "fig.set_tight_layout(True)\n",
    "\n",
    "\n",
    "result_1.plot(ax=ax[0,0], cmap = 'Blues',column = 'res_mix', vmin = 0, vmax = 1)\n",
    "region_benchmark_res_mix_1.plot(ax=ax[0,0], color  = 'none', edgecolor='black', linewidth = 3)\n",
    "region_res_mix_1.loc[region_res_mix_1['seg_res_mix_1'] == 1].plot(ax = ax[0,0],\n",
    "                                                                  color  = 'none',\n",
    "                                                                  edgecolor = 'chocolate',\n",
    "                                                                  linewidth = 3,\n",
    "                                                                   hatch = '/')\n",
    "\n",
    "result_2.plot(ax=ax[0,1], cmap = 'Blues',column = 'res_mix', vmin = 0, vmax = 1)\n",
    "region_benchmark_res_mix_2.plot(ax=ax[0,1], color  = 'none', edgecolor='black', linewidth = 3)\n",
    "region_res_mix_2.loc[region_res_mix_2['seg_res_mix_2'] == 1].plot(ax = ax[0,1],\n",
    "                                                                  color  = 'none',\n",
    "                                                                  edgecolor = 'chocolate',\n",
    "                                                                  hatch = '/',\n",
    "                                                                  linewidth = 3)\n",
    "\n",
    "result_1.plot(ax=ax[1,0], cmap = 'Blues',column = 'exposure', vmin = 0, vmax = 1)\n",
    "region_benchmark_exposure_1.plot(ax=ax[1,0], color  = 'none', edgecolor='black', linewidth = 3)\n",
    "region_exposure_1.loc[region_exposure_1['seg_exposure_1'] == 1].plot(ax = ax[1,0],\n",
    "                                                                     color  = 'none',\n",
    "                                                                     edgecolor = 'chocolate',\n",
    "                                                                     hatch = '/',\n",
    "                                                                     linewidth = 3)\n",
    "\n",
    "\n",
    "result_2.plot(ax=ax[1,1], cmap = 'Blues',column = 'exposure', vmin = 0, vmax = 1)\n",
    "region_benchmark_exposure_2.plot(ax=ax[1,1], color  = 'none', edgecolor='black', linewidth = 3)\n",
    "region_exposure_2.loc[region_exposure_2['seg_exposure_2'] == 1].plot(ax = ax[1,1],\n",
    "                                                                     color  = 'none',\n",
    "                                                                     edgecolor = 'chocolate', \n",
    "                                                                     hatch = '/',\n",
    "                                                                     linewidth = 3)\n",
    "\n",
    "region_res_mix_comp_2.plot(ax=ax[0,2], categorical = True,column = 'seg_res_mix_1', edgecolor='black', linewidth = 3)\n",
    "region_res_mix_comp_1.loc[region_res_mix_comp_1['seg_res_mix_1'] == 1].plot(ax = ax[0,2], \n",
    "                                                                          color  = 'none',\n",
    "                                                                  edgecolor = 'chocolate',\n",
    "                                                                  hatch = '/',\n",
    "                                                                  linewidth = 3)\n",
    "\n",
    "result_comp.plot(ax=ax[1,2], cmap = 'Blues',column = 'exposure', vmin = 0, vmax = 1)\n",
    "region_exposure_comp_2.loc[region_res_mix_comp_2['seg_res_mix_2'] == 1].plot(ax = ax[1,2], \n",
    "                                                                             color  = 'none', \n",
    "                                                                             edgecolor='black', \n",
    "                                                                             linewidth = 3)\n",
    "result_comp.dissolve().plot(ax=ax[1,2],color = 'none',edgecolor='black', linewidth = 3)\n",
    "region_exposure_comp_1.loc[region_res_mix_comp_1['seg_res_mix_1'] == 1].plot(ax = ax[1,2], \n",
    "                                                                             color  = 'none',\n",
    "                                                                             edgecolor = 'chocolate',\n",
    "                                                                             hatch = '/',\n",
    "                                                                             linewidth = 3)\n",
    "\n",
    "ax[0,0].axis('off')\n",
    "ax[0,1].axis('off')\n",
    "ax[0,2].axis('off')\n",
    "ax[1,0].axis('off')\n",
    "ax[1,1].axis('off')\n",
    "ax[1,2].axis('off')                                                                             \n",
    "\n",
    "plt.show()"
   ]
  },
  {
   "cell_type": "code",
   "execution_count": null,
   "metadata": {},
   "outputs": [],
   "source": [
    "def compute_metrics(labels_true, labels_pred):\n",
    "\n",
    "    metrics = pd.DataFrame({'fowlkes_mallows':[fowlkes_mallows_score(labels_true,labels_pred)],\n",
    "                            'rand':[rand_score(labels_true,labels_pred)],\n",
    "                            'mutual_info':[mutual_info_score(labels_true,labels_pred)]})\n",
    "    return metrics"
   ]
  },
  {
   "cell_type": "code",
   "execution_count": null,
   "metadata": {},
   "outputs": [],
   "source": [
    "compute_metrics(result_1['seg_res_mix'], result_1['seg_res_mix_1'])"
   ]
  },
  {
   "cell_type": "code",
   "execution_count": null,
   "metadata": {},
   "outputs": [],
   "source": [
    "compute_metrics(result_1['seg_exposure'], result_1['seg_exposure_1'])"
   ]
  },
  {
   "cell_type": "code",
   "execution_count": null,
   "metadata": {},
   "outputs": [],
   "source": [
    "compute_metrics(result_2['region_res_mix'], result_2['region_res_mix_2'])"
   ]
  },
  {
   "cell_type": "code",
   "execution_count": null,
   "metadata": {},
   "outputs": [],
   "source": [
    "compute_metrics(result_2['region_exposure'], result_2['region_exposure_2'])"
   ]
  },
  {
   "cell_type": "code",
   "execution_count": null,
   "metadata": {},
   "outputs": [],
   "source": [
    "compute_metrics(result_comp['region_res_mix_1'], result_comp['region_res_mix_2'])"
   ]
  },
  {
   "cell_type": "code",
   "execution_count": null,
   "metadata": {},
   "outputs": [],
   "source": [
    "compute_metrics(result_comp['region_exposure_1'], result_comp['region_exposure_2'])"
   ]
  }
 ],
 "metadata": {
  "kernelspec": {
   "display_name": "study_1_venv",
   "language": "python",
   "name": "python3"
  },
  "language_info": {
   "codemirror_mode": {
    "name": "ipython",
    "version": 3
   },
   "file_extension": ".py",
   "mimetype": "text/x-python",
   "name": "python",
   "nbconvert_exporter": "python",
   "pygments_lexer": "ipython3",
   "version": "3.9.7"
  },
  "orig_nbformat": 4,
  "vscode": {
   "interpreter": {
    "hash": "11eb3bdda620b386ac311b3d07c097973ef5c99cb9184bf1a093190cd8996fdc"
   }
  }
 },
 "nbformat": 4,
 "nbformat_minor": 2
}
