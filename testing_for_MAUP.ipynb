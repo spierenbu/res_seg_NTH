{
 "cells": [
  {
   "cell_type": "code",
   "execution_count": 32,
   "metadata": {},
   "outputs": [],
   "source": [
    "import geopandas as gpd\n",
    "import pandas as pd\n",
    "from scipy.stats import norm \n",
    "import numpy as np\n",
    "from shapely.geometry import Polygon\n",
    "import string"
   ]
  },
  {
   "cell_type": "code",
   "execution_count": 2,
   "metadata": {},
   "outputs": [],
   "source": [
    "zones = gpd.read_file(\"../data/processed_data/zones_delineation/PC_Leiden.gpkg\")"
   ]
  },
  {
   "cell_type": "code",
   "execution_count": 3,
   "metadata": {},
   "outputs": [
    {
     "data": {
      "text/plain": [
       "2043.7616624030316"
      ]
     },
     "execution_count": 3,
     "metadata": {},
     "output_type": "execute_result"
    }
   ],
   "source": [
    "zones.area.median()"
   ]
  },
  {
   "cell_type": "code",
   "execution_count": 49,
   "metadata": {},
   "outputs": [],
   "source": [
    "households_data = pd.read_csv('../data/toy_example/toy_example.csv', names= list(range(0,27)))"
   ]
  },
  {
   "cell_type": "code",
   "execution_count": 50,
   "metadata": {},
   "outputs": [],
   "source": [
    "households_data = households_data.applymap(lambda x: x + norm.rvs(loc = 0, scale = 1))\n",
    "households_data = households_data.applymap(lambda x: 1 if x>0.5 else 0)\n",
    "#toy_example = toy_example.applymap(lambda x: 0 if x<0 else x)"
   ]
  },
  {
   "cell_type": "code",
   "execution_count": 55,
   "metadata": {},
   "outputs": [],
   "source": [
    "# Making an alphabetical index for the city.\n",
    "list_char=list(string.ascii_uppercase)\n",
    "alphabet=list_char+[x+y for x in list_char for y in list_char]\n",
    "name_columns_1 = alphabet[0:13]\n",
    "# name_columns_2 = [sub + '_2' for sub in alphabet[0:13]]"
   ]
  },
  {
   "cell_type": "code",
   "execution_count": 143,
   "metadata": {},
   "outputs": [],
   "source": [
    "city_1 = pd.DataFrame(data = [[np.mean(households_data.loc[2*i:2*i+1,2*j:2*j+1].mean().mean()) for i in range(13)] for j in range(13)],\n",
    "                      columns = name_columns_1,\n",
    "                      index = name_columns_1)\n",
    "                      \n",
    "city_2 = pd.DataFrame(data = [[np.mean(households_data.loc[2*i+1:2*i+2,2*j+1:2*j+2].mean().mean()) for i in range(13)] for j in range(13)],\n",
    "                      columns = name_columns_1,\n",
    "                      index = name_columns_1)\n",
    "                      #columns = name_columns_2,\n",
    "                      #index = name_columns_2)"
   ]
  },
  {
   "cell_type": "code",
   "execution_count": null,
   "metadata": {},
   "outputs": [],
   "source": [
    "def compute_res_mix(city_mix):\n",
    "    res_mix = city_mix.T.stack().reset_index()\n",
    "    city_mix = city_mix.rename(columns = {0:'res_mix'})\n",
    "    city_mix['polygon_id'] = city_mix['level_0'] + city_mix['level_1']\n",
    "    city_mix = city_mix.drop(columns = ['level_0','level_1'])\n",
    "    return res_mix"
   ]
  },
  {
   "cell_type": "code",
   "execution_count": 162,
   "metadata": {},
   "outputs": [],
   "source": [
    "res_mix_1 = city_1.T.stack().reset_index()\n",
    "res_mix_1 = res_mix_1.rename(columns = {0:'res_mix'})\n",
    "res_mix_1['polygon_id'] = res_mix_1['level_0'] + res_mix_1['level_1']\n",
    "res_mix_1 = res_mix_1.drop(columns = ['level_0','level_1'])"
   ]
  },
  {
   "cell_type": "code",
   "execution_count": 163,
   "metadata": {},
   "outputs": [],
   "source": [
    "res_mix_2 = city_2.T.stack().reset_index()\n",
    "res_mix_2 = res_mix_2.rename(columns = {0:'res_mix'})\n",
    "res_mix_2['polygon_id'] = res_mix_2['level_0'] + res_mix_2['level_1']\n",
    "res_mix_2 = res_mix_2.drop(columns = ['level_0','level_1'])"
   ]
  },
  {
   "cell_type": "code",
   "execution_count": 242,
   "metadata": {},
   "outputs": [],
   "source": [
    "# Generation of a grid.\n",
    "polygons = []\n",
    "polygon_id = []\n",
    "for x in range(13):\n",
    "    for y in range(13):\n",
    "        polygons.append(Polygon([(3*x,3*y), (3*(x+1), 3*y), (3*(x+1), 3*(y+1)), (3*x, 3*(y+1))]))\n",
    "        polygon_id.append(name_columns_1[x] + name_columns_1[y])\n",
    "\n",
    "grid = gpd.GeoDataFrame({'polygon_id':polygon_id,'geometry':polygons})\n",
    "grid['geometry'] = grid.centroid"
   ]
  },
  {
   "cell_type": "code",
   "execution_count": 243,
   "metadata": {},
   "outputs": [],
   "source": [
    "# Computing the shortest paths from cell to cell.\n",
    "shortest_paths = pd.DataFrame({'from_polygon':[],'to_polygon':[],'distance':[]})\n",
    "\n",
    "for i in res_mix_1['polygon_id']:\n",
    "    shortest_paths_i = pd.DataFrame({'from_polygon':[i]*len(res_mix_1),\n",
    "                                     'to_polygon':res_mix_1['polygon_id'],\n",
    "                                     'distance':grid.distance(grid.loc[res_mix_1['polygon_id'] == i,'geometry'].values[0])})\n",
    "    shortest_paths = pd.concat([shortest_paths,shortest_paths_i], ignore_index=True)"
   ]
  },
  {
   "cell_type": "code",
   "execution_count": 244,
   "metadata": {},
   "outputs": [],
   "source": [
    "shortest_paths['weight'] = 1\n",
    "shortest_paths['weight'] = shortest_paths['weight'].mask(shortest_paths['distance'] > 0,\n",
    "                                                         1/shortest_paths['distance']**2)"
   ]
  },
  {
   "cell_type": "code",
   "execution_count": 245,
   "metadata": {},
   "outputs": [],
   "source": [
    "exposure_1 = res_mix_1.merge(shortest_paths[['from_polygon','to_polygon','weight']], \n",
    "                            left_on = 'polygon_id',\n",
    "                            right_on = 'from_polygon')\n",
    "exposure_1 = exposure_1.drop(columns = ['from_polygon','polygon_id'])\n",
    "exposure_1 = exposure_1.rename(columns = {'to_polygon':'polygon_id'})"
   ]
  },
  {
   "cell_type": "code",
   "execution_count": 246,
   "metadata": {},
   "outputs": [],
   "source": [
    "exposure_1['exposure'] = exposure_1['res_mix']*exposure_1['weight']\n",
    "exposure_1 = exposure_1[['polygon_id','weight','exposure']].groupby(by = 'polygon_id').sum().reset_index()\n",
    "exposure_1['exposure'] = exposure_1['exposure'] / exposure_1['weight']\n",
    "\n",
    "exposure_1 = exposure_1.merge(res_mix_1, on ='polygon_id')"
   ]
  },
  {
   "cell_type": "code",
   "execution_count": 241,
   "metadata": {},
   "outputs": [
    {
     "data": {
      "text/html": [
       "<div>\n",
       "<style scoped>\n",
       "    .dataframe tbody tr th:only-of-type {\n",
       "        vertical-align: middle;\n",
       "    }\n",
       "\n",
       "    .dataframe tbody tr th {\n",
       "        vertical-align: top;\n",
       "    }\n",
       "\n",
       "    .dataframe thead th {\n",
       "        text-align: right;\n",
       "    }\n",
       "</style>\n",
       "<table border=\"1\" class=\"dataframe\">\n",
       "  <thead>\n",
       "    <tr style=\"text-align: right;\">\n",
       "      <th></th>\n",
       "      <th>polygon_id</th>\n",
       "      <th>weight</th>\n",
       "      <th>exposure</th>\n",
       "      <th>res_mix</th>\n",
       "    </tr>\n",
       "  </thead>\n",
       "  <tbody>\n",
       "    <tr>\n",
       "      <th>0</th>\n",
       "      <td>AA</td>\n",
       "      <td>2.588035</td>\n",
       "      <td>0.555559</td>\n",
       "      <td>0.50</td>\n",
       "    </tr>\n",
       "    <tr>\n",
       "      <th>1</th>\n",
       "      <td>AB</td>\n",
       "      <td>3.069598</td>\n",
       "      <td>0.604354</td>\n",
       "      <td>0.75</td>\n",
       "    </tr>\n",
       "    <tr>\n",
       "      <th>2</th>\n",
       "      <td>AC</td>\n",
       "      <td>3.257042</td>\n",
       "      <td>0.534050</td>\n",
       "      <td>0.50</td>\n",
       "    </tr>\n",
       "    <tr>\n",
       "      <th>3</th>\n",
       "      <td>AD</td>\n",
       "      <td>3.358556</td>\n",
       "      <td>0.582557</td>\n",
       "      <td>0.75</td>\n",
       "    </tr>\n",
       "    <tr>\n",
       "      <th>4</th>\n",
       "      <td>AE</td>\n",
       "      <td>3.417348</td>\n",
       "      <td>0.469155</td>\n",
       "      <td>0.50</td>\n",
       "    </tr>\n",
       "    <tr>\n",
       "      <th>...</th>\n",
       "      <td>...</td>\n",
       "      <td>...</td>\n",
       "      <td>...</td>\n",
       "      <td>...</td>\n",
       "    </tr>\n",
       "    <tr>\n",
       "      <th>164</th>\n",
       "      <td>MI</td>\n",
       "      <td>3.417348</td>\n",
       "      <td>0.487160</td>\n",
       "      <td>0.75</td>\n",
       "    </tr>\n",
       "    <tr>\n",
       "      <th>165</th>\n",
       "      <td>MJ</td>\n",
       "      <td>3.358556</td>\n",
       "      <td>0.397585</td>\n",
       "      <td>0.25</td>\n",
       "    </tr>\n",
       "    <tr>\n",
       "      <th>166</th>\n",
       "      <td>MK</td>\n",
       "      <td>3.257042</td>\n",
       "      <td>0.448354</td>\n",
       "      <td>0.50</td>\n",
       "    </tr>\n",
       "    <tr>\n",
       "      <th>167</th>\n",
       "      <td>ML</td>\n",
       "      <td>3.069598</td>\n",
       "      <td>0.430495</td>\n",
       "      <td>0.50</td>\n",
       "    </tr>\n",
       "    <tr>\n",
       "      <th>168</th>\n",
       "      <td>MM</td>\n",
       "      <td>2.588035</td>\n",
       "      <td>0.432370</td>\n",
       "      <td>0.50</td>\n",
       "    </tr>\n",
       "  </tbody>\n",
       "</table>\n",
       "<p>169 rows × 4 columns</p>\n",
       "</div>"
      ],
      "text/plain": [
       "    polygon_id    weight  exposure  res_mix\n",
       "0           AA  2.588035  0.555559     0.50\n",
       "1           AB  3.069598  0.604354     0.75\n",
       "2           AC  3.257042  0.534050     0.50\n",
       "3           AD  3.358556  0.582557     0.75\n",
       "4           AE  3.417348  0.469155     0.50\n",
       "..         ...       ...       ...      ...\n",
       "164         MI  3.417348  0.487160     0.75\n",
       "165         MJ  3.358556  0.397585     0.25\n",
       "166         MK  3.257042  0.448354     0.50\n",
       "167         ML  3.069598  0.430495     0.50\n",
       "168         MM  2.588035  0.432370     0.50\n",
       "\n",
       "[169 rows x 4 columns]"
      ]
     },
     "execution_count": 241,
     "metadata": {},
     "output_type": "execute_result"
    }
   ],
   "source": [
    "exposure_1.loc[exposure_1['res_mix'] != exposure_1['exposure']]"
   ]
  }
 ],
 "metadata": {
  "kernelspec": {
   "display_name": "study_1_venv",
   "language": "python",
   "name": "python3"
  },
  "language_info": {
   "codemirror_mode": {
    "name": "ipython",
    "version": 3
   },
   "file_extension": ".py",
   "mimetype": "text/x-python",
   "name": "python",
   "nbconvert_exporter": "python",
   "pygments_lexer": "ipython3",
   "version": "3.9.7"
  },
  "orig_nbformat": 4,
  "vscode": {
   "interpreter": {
    "hash": "11eb3bdda620b386ac311b3d07c097973ef5c99cb9184bf1a093190cd8996fdc"
   }
  }
 },
 "nbformat": 4,
 "nbformat_minor": 2
}
